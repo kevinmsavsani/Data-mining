{
 "cells": [
  {
   "cell_type": "code",
   "execution_count": 7,
   "metadata": {
    "colab": {},
    "colab_type": "code",
    "collapsed": true,
    "id": "mCtauVwVNCoy"
   },
   "outputs": [],
   "source": [
    "import networkx as nx\n",
    "import matplotlib.pyplot as plt\n",
    "import matplotlib.colors as mcolors\n",
    "import numpy as np\n",
    "import pandas as pd\n",
    "from scipy import stats\n",
    "import math\n",
    "from scipy.sparse import csc_matrix\n",
    "import random\n",
    "import operator\n",
    "import scipy.io\n",
    "import collections\n",
    "\n",
    "# for Notebook\n",
    "%matplotlib inline"
   ]
  },
  {
   "cell_type": "code",
   "execution_count": null,
   "metadata": {
    "colab": {},
    "colab_type": "code",
    "collapsed": true,
    "id": "fvcCCCBXNCo5"
   },
   "outputs": [],
   "source": []
  },
  {
   "cell_type": "code",
   "execution_count": null,
   "metadata": {
    "collapsed": true
   },
   "outputs": [],
   "source": []
  },
  {
   "cell_type": "code",
   "execution_count": null,
   "metadata": {
    "collapsed": true
   },
   "outputs": [],
   "source": [
    "# Out of Below Five Block execute the one based on which dataset you want to load"
   ]
  },
  {
   "cell_type": "code",
   "execution_count": null,
   "metadata": {
    "collapsed": true
   },
   "outputs": [],
   "source": [
    "G=nx.read_weighted_edgelist(\"higgs-mention_network.edgelist\",create_using=nx.DiGraph())"
   ]
  },
  {
   "cell_type": "code",
   "execution_count": null,
   "metadata": {
    "collapsed": true
   },
   "outputs": [],
   "source": [
    "G = read_edgelist(\"com-dblp.ungraph.txt\",nodetype=int)"
   ]
  },
  {
   "cell_type": "code",
   "execution_count": null,
   "metadata": {
    "collapsed": true
   },
   "outputs": [],
   "source": [
    "data= scipy.io.loadmat('IMDBdataset.mat')\n",
    "A = data['links'][0][0]\n",
    "G = nx.from_scipy_sparse_matrix(A, parallel_edges=False, create_using=None)"
   ]
  },
  {
   "cell_type": "code",
   "execution_count": 8,
   "metadata": {
    "colab": {},
    "colab_type": "code",
    "collapsed": true,
    "id": "OwGpPSVJNwq3"
   },
   "outputs": [],
   "source": [
    "data= scipy.io.loadmat('SLAPdataset.mat')\n",
    "A = data['links'][0][0]\n",
    "G=nx.from_scipy_sparse_matrix(A, parallel_edges=False, create_using=None)"
   ]
  },
  {
   "cell_type": "code",
   "execution_count": null,
   "metadata": {
    "collapsed": true
   },
   "outputs": [],
   "source": [
    "def load_restaurant_dataset():\n",
    "    path = 'dataset_ubicomp2013_checkins.txt'\n",
    "    infile = open(path, 'r')\n",
    "    a = set()\n",
    "    b = set()\n",
    "    edges = []\n",
    "    for line in infile:\n",
    "        s=line.strip().split(None)\n",
    "        u=-1*int(s.pop(0)) -10\n",
    "        v=int(s.pop(0))\n",
    "        a.add(u)\n",
    "        b.add(v)\n",
    "        edges.append((u,v))\n",
    "    top_nodes = {}\n",
    "    bottom_nodes = {}\n",
    "    count = 0 \n",
    "    for x in a:\n",
    "        top_nodes[x] = count\n",
    "        count = count + 1\n",
    "    count  = 0    \n",
    "    for y in b:\n",
    "        bottom_nodes[y] = count\n",
    "        count  = count + 1\n",
    "    \n",
    "    A = np.zeros((len(a),len(b)))\n",
    "    for edge in edges:\n",
    "        e1 = top_nodes[edge[0]]\n",
    "        e2 = bottom_nodes[edge[1]]\n",
    "        A[e1, e2] = 1\n",
    "    \n",
    "    A = np.dot(A,A.T)\n",
    "    for i in range(0,A.shape[0]):\n",
    "        for j in range(0,A.shape[1]):\n",
    "            if i == j :\n",
    "                A[i,j] = 0\n",
    "            else:\n",
    "                if A[i,j] != 0:\n",
    "                  A[i,j] = 1\n",
    "                else:\n",
    "                  A[i,j] = 0\n",
    "          \n",
    "                                     \n",
    "    G=nx.from_numpy_matrix(A)\n",
    "    return G\n",
    "G = load_restaurant_dataset()"
   ]
  },
  {
   "cell_type": "code",
   "execution_count": null,
   "metadata": {
    "collapsed": true
   },
   "outputs": [],
   "source": []
  },
  {
   "cell_type": "code",
   "execution_count": null,
   "metadata": {
    "collapsed": true
   },
   "outputs": [],
   "source": []
  },
  {
   "cell_type": "code",
   "execution_count": 25,
   "metadata": {},
   "outputs": [
    {
     "name": "stdout",
     "output_type": "stream",
     "text": [
      "Name: \n",
      "Type: Graph\n",
      "Number of nodes: 20419\n",
      "Number of edges: 30213\n",
      "Average degree:   2.9593\n",
      "20419\n",
      "30213\n",
      "False\n",
      "0.03848009845938926\n"
     ]
    }
   ],
   "source": [
    "print(nx.info(G))\n",
    "print(nx.number_of_nodes(G))\n",
    "print(nx.number_of_edges(G))\n",
    "print(nx.is_directed(G))\n",
    "print(nx.average_clustering(G))"
   ]
  },
  {
   "cell_type": "code",
   "execution_count": null,
   "metadata": {
    "collapsed": true
   },
   "outputs": [],
   "source": []
  },
  {
   "cell_type": "code",
   "execution_count": null,
   "metadata": {
    "collapsed": true
   },
   "outputs": [],
   "source": []
  },
  {
   "cell_type": "code",
   "execution_count": 10,
   "metadata": {
    "colab": {
     "base_uri": "https://localhost:8080/",
     "height": 283
    },
    "colab_type": "code",
    "id": "0WrfW6XyNCpD",
    "outputId": "60a09f84-41fa-4a86-b88b-61529c053b9a"
   },
   "outputs": [
    {
     "data": {
      "image/png": "[encoded data removed]",
      "text/plain": [
       "<matplotlib.figure.Figure at 0x7f244ad13c50>"
      ]
     },
     "metadata": {},
     "output_type": "display_data"
    }
   ],
   "source": [
    "#Degree Distribution without use of networkX\n",
    "plt.figure()\n",
    "plt.hist([len(list(G.neighbors(n))) for n in G.nodes()])\n",
    "plt.xlabel(\"Degree\")\n",
    "plt.ylabel(\"Number of Nodes\")\n",
    "plt.savefig('degree_distribution_code.png')\n",
    "plt.show()"
   ]
  },
  {
   "cell_type": "code",
   "execution_count": 15,
   "metadata": {
    "colab": {
     "base_uri": "https://localhost:8080/",
     "height": 295
    },
    "colab_type": "code",
    "id": "c11EKsHgNCpK",
    "outputId": "3da813ff-c1da-403d-e71d-a0265efb1dc7"
   },
   "outputs": [],
   "source": [
    "def Degree_Distribution(G):\n",
    "    degree_sequence = sorted([d for n, d in G.degree()], reverse=True)  # degree sequence\n",
    "    degreeCount = collections.Counter(degree_sequence)\n",
    "    deg, cnt = zip(*degreeCount.items())\n",
    "\n",
    "    fig, ax = plt.subplots()\n",
    "    plt.bar(deg, cnt, width=0.80, color='b')\n",
    "\n",
    "    plt.title(\"Degree Distribution\")\n",
    "    plt.ylabel(\"Count\")\n",
    "    plt.xlabel(\"Degree\")\n",
    "\n",
    "    plt.savefig('degree_distribution.png')\n",
    "    plt.show()"
   ]
  },
  {
   "cell_type": "code",
   "execution_count": 16,
   "metadata": {
    "collapsed": true
   },
   "outputs": [],
   "source": [
    "def plot_clustering(G):\n",
    "  cluster = nx.clustering(G)\n",
    "  plt.hist(cluster.values())\n",
    "  plt.xlabel(\"Clustering Coeficient\")\n",
    "  plt.ylabel(\"No of Nodes\")\n",
    "  plt.show()"
   ]
  },
  {
   "cell_type": "code",
   "execution_count": 17,
   "metadata": {
    "colab": {},
    "colab_type": "code",
    "collapsed": true,
    "id": "LuCXmdEENCpP"
   },
   "outputs": [],
   "source": [
    "def get_avg_path_length(G):\n",
    "  try:\n",
    "    avgPath = nx.average_shortest_path_length(G)\n",
    "    print(\"avg path lenth = \" ,avgPath)\n",
    "  except:\n",
    "    print(\"avg path lenth is infinite length\")"
   ]
  },
  {
   "cell_type": "code",
   "execution_count": 18,
   "metadata": {
    "colab": {},
    "colab_type": "code",
    "collapsed": true,
    "id": "atnwYtoCNCpZ"
   },
   "outputs": [],
   "source": [
    "def get_giant_cluster(G):\n",
    "  GC = max(nx.connected_component_subgraphs(G), key=len)\n",
    "  print(\"Nodes in giant cluster = \" ,GC.number_of_nodes())\n",
    "  diameter = nx.algorithms.distance_measures.diameter(G)\n",
    "  print(\"diameter = \" , diameter)"
   ]
  },
  {
   "cell_type": "code",
   "execution_count": null,
   "metadata": {
    "collapsed": true
   },
   "outputs": [],
   "source": [
    "Degree_Distribution(G)\n",
    "plot_clustering(G)\n",
    "get_avg_path_length(G)\n",
    "get_giant_cluster(G)"
   ]
  },
  {
   "cell_type": "code",
   "execution_count": 20,
   "metadata": {
    "colab": {},
    "colab_type": "code",
    "id": "2ep6bLp2NCpe"
   },
   "outputs": [
    {
     "data": {
      "image/png": "[encoded data removed]",
      "text/plain": [
       "<matplotlib.figure.Figure at 0x7f24488e1ac8>"
      ]
     },
     "metadata": {},
     "output_type": "display_data"
    },
    {
     "data": {
      "image/png": "[encoded data removed]",
      "text/plain": [
       "<matplotlib.figure.Figure at 0x7f244b758240>"
      ]
     },
     "metadata": {},
     "output_type": "display_data"
    }
   ],
   "source": [
    "randomGraph = nx.fast_gnp_random_graph(nx.number_of_nodes(),0.01)\n",
    "Degree_Distribution(randomGraph)\n",
    "plot_clustering(randomGraph)"
   ]
  },
  {
   "cell_type": "code",
   "execution_count": 19,
   "metadata": {
    "colab": {},
    "colab_type": "code",
    "id": "OyLrCpiCNCpj"
   },
   "outputs": [
    {
     "data": {
      "image/png": "[encoded data removed]",
      "text/plain": [
       "<matplotlib.figure.Figure at 0x7f247f736eb8>"
      ]
     },
     "metadata": {},
     "output_type": "display_data"
    },
    {
     "data": {
      "image/png": "[encoded data removed]",
      "text/plain": [
       "<matplotlib.figure.Figure at 0x7f2489755c18>"
      ]
     },
     "metadata": {},
     "output_type": "display_data"
    }
   ],
   "source": [
    "randomGraph = nx.fast_gnp_random_graph(nx.number_of_nodes(),0.005)\n",
    "Degree_Distribution(randomGraph)\n",
    "plot_clustering(randomGraph)"
   ]
  },
  {
   "cell_type": "code",
   "execution_count": 0,
   "metadata": {
    "colab": {},
    "colab_type": "code",
    "collapsed": true,
    "id": "lkB6jF2sNCqJ"
   },
   "outputs": [],
   "source": []
  },
  {
   "cell_type": "code",
   "execution_count": null,
   "metadata": {
    "collapsed": true
   },
   "outputs": [],
   "source": []
  },
  {
   "cell_type": "code",
   "execution_count": 9,
   "metadata": {
    "colab": {
     "base_uri": "https://localhost:8080/",
     "height": 283
    },
    "colab_type": "code",
    "id": "-7VPAp9UNCqS",
    "outputId": "fa686fbf-a62f-400f-e380-64be0514068c"
   },
   "outputs": [
    {
     "data": {
      "image/png": "[encoded data removed]",
      "text/plain": [
       "<Figure size 432x288 with 1 Axes>"
      ]
     },
     "metadata": {
      "tags": []
     },
     "output_type": "display_data"
    }
   ],
   "source": [
    "degreeCentrality=[(x[1]/(nx.number_of_nodes(G) - 1)) for x in list(nx.degree(G))]\n",
    "plt.figure()\n",
    "plt.hist(degreeCentrality)\n",
    "plt.xlabel(\"Degree Centrality\")\n",
    "plt.ylabel(\"Number of Nodes\")\n",
    "plt.savefig('degree_centrality_code.png')\n",
    "plt.show()"
   ]
  },
  {
   "cell_type": "code",
   "execution_count": 10,
   "metadata": {
    "colab": {
     "base_uri": "https://localhost:8080/",
     "height": 549
    },
    "colab_type": "code",
    "id": "2TI53d9sNCqe",
    "outputId": "0e11849e-0148-4165-9f21-fdc45a638168"
   },
   "outputs": [
    {
     "data": {
      "image/png": "[encoded data removed]",
      "text/plain": [
       "<Figure size 432x288 with 1 Axes>"
      ]
     },
     "metadata": {
      "tags": []
     },
     "output_type": "display_data"
    },
    {
     "data": {
      "image/png": "[encoded data removed]",
      "text/plain": [
       "<Figure size 432x288 with 1 Axes>"
      ]
     },
     "metadata": {
      "tags": []
     },
     "output_type": "display_data"
    }
   ],
   "source": [
    "deg_cent = nx.degree_centrality(G)\n",
    "plt.figure()\n",
    "plt.hist(list(deg_cent.values()))\n",
    "plt.xlabel(\"Degree Centrality\")\n",
    "plt.ylabel(\"Number of Nodes\")\n",
    "plt.savefig('degree_centrality.png')\n",
    "plt.show()"
   ]
  },
  {
   "cell_type": "code",
   "execution_count": 0,
   "metadata": {
    "colab": {},
    "colab_type": "code",
    "collapsed": true,
    "id": "ZabgAuP8NCqm"
   },
   "outputs": [],
   "source": []
  },
  {
   "cell_type": "code",
   "execution_count": 0,
   "metadata": {
    "colab": {},
    "colab_type": "code",
    "collapsed": true,
    "id": "y3FvSa5fNCqr"
   },
   "outputs": [],
   "source": []
  },
  {
   "cell_type": "code",
   "execution_count": 0,
   "metadata": {
    "colab": {},
    "colab_type": "code",
    "collapsed": true,
    "id": "mxI6LJFaNCqx"
   },
   "outputs": [],
   "source": [
    "ideal = nx.closeness_centrality(G) "
   ]
  },
  {
   "cell_type": "code",
   "execution_count": 0,
   "metadata": {
    "colab": {},
    "colab_type": "code",
    "collapsed": true,
    "id": "6mOlGOfkNCq2"
   },
   "outputs": [],
   "source": [
    "plt.figure()\n",
    "plt.hist(list(ideal.values()) )\n",
    "plt.xlabel(\"Closeness Centrality\")\n",
    "plt.ylabel(\"Number of Nodes\")\n",
    "plt.savefig('closeness.png')\n",
    "plt.show()"
   ]
  },
  {
   "cell_type": "code",
   "execution_count": 0,
   "metadata": {
    "colab": {},
    "colab_type": "code",
    "collapsed": true,
    "id": "q0Z8JadPNCq7"
   },
   "outputs": [],
   "source": []
  },
  {
   "cell_type": "code",
   "execution_count": 0,
   "metadata": {
    "colab": {},
    "colab_type": "code",
    "collapsed": true,
    "id": "kKAVairxNCrA"
   },
   "outputs": [],
   "source": []
  },
  {
   "cell_type": "code",
   "execution_count": 0,
   "metadata": {
    "colab": {},
    "colab_type": "code",
    "collapsed": true,
    "id": "mOJL83QZNCrD"
   },
   "outputs": [],
   "source": [
    "eigen = nx.eigenvector_centrality(G,weight='weight')"
   ]
  },
  {
   "cell_type": "code",
   "execution_count": 0,
   "metadata": {
    "colab": {},
    "colab_type": "code",
    "id": "3fCM00-bNCrN",
    "outputId": "1bf7f17b-35b7-417c-c727-15d5a959e67a"
   },
   "outputs": [
    {
     "data": {
      "image/png": "[encoded data removed]",
      "text/plain": [
       "<matplotlib.figure.Figure at 0x7f5480ffc550>"
      ]
     },
     "metadata": {
      "tags": []
     },
     "output_type": "display_data"
    }
   ],
   "source": [
    "plt.figure()\n",
    "plt.hist(list(eigen.values()))\n",
    "plt.xlabel(\"Eigen Vector Centrality\")\n",
    "plt.ylabel(\"Number of Nodes\")\n",
    "plt.savefig('eigen.png')\n",
    "plt.show()"
   ]
  },
  {
   "cell_type": "code",
   "execution_count": 0,
   "metadata": {
    "colab": {},
    "colab_type": "code",
    "collapsed": true,
    "id": "CMYeF436NCrR"
   },
   "outputs": [],
   "source": []
  },
  {
   "cell_type": "code",
   "execution_count": 0,
   "metadata": {
    "colab": {},
    "colab_type": "code",
    "collapsed": true,
    "id": "qrwus5Z7NCrU"
   },
   "outputs": [],
   "source": []
  },
  {
   "cell_type": "code",
   "execution_count": 0,
   "metadata": {
    "colab": {},
    "colab_type": "code",
    "collapsed": true,
    "id": "IUr5gC6aNCrZ"
   },
   "outputs": [],
   "source": [
    "phi = (1+math.sqrt(G.number_of_nodes()))/2.0\n",
    "katz = nx.katz_centrality(G,0.01)"
   ]
  },
  {
   "cell_type": "code",
   "execution_count": 0,
   "metadata": {
    "colab": {},
    "colab_type": "code",
    "collapsed": true,
    "id": "4r4y19-8NCrd"
   },
   "outputs": [],
   "source": [
    "print(katz.values())"
   ]
  },
  {
   "cell_type": "code",
   "execution_count": 0,
   "metadata": {
    "colab": {},
    "colab_type": "code",
    "collapsed": true,
    "id": "GQ-zwFRzNCrh"
   },
   "outputs": [],
   "source": [
    "plt.figure()\n",
    "plt.hist(list(katz.values()))\n",
    "plt.xlabel(\"Katz Centrality\")\n",
    "plt.ylabel(\"Number of Nodes\")\n",
    "plt.savefig('katz.png')\n",
    "plt.show()"
   ]
  },
  {
   "cell_type": "code",
   "execution_count": 0,
   "metadata": {
    "colab": {},
    "colab_type": "code",
    "collapsed": true,
    "id": "h93-qoMoNCrk"
   },
   "outputs": [],
   "source": []
  },
  {
   "cell_type": "code",
   "execution_count": 0,
   "metadata": {
    "colab": {},
    "colab_type": "code",
    "collapsed": true,
    "id": "dbq_mkdfNCrp"
   },
   "outputs": [],
   "source": []
  },
  {
   "cell_type": "code",
   "execution_count": 0,
   "metadata": {
    "colab": {},
    "colab_type": "code",
    "collapsed": true,
    "id": "y0ZQA_FCNCrt"
   },
   "outputs": [],
   "source": [
    "pageRank = nx.pagerank(G)"
   ]
  },
  {
   "cell_type": "code",
   "execution_count": 0,
   "metadata": {
    "colab": {},
    "colab_type": "code",
    "collapsed": true,
    "id": "9fq9CWElNCrz"
   },
   "outputs": [],
   "source": [
    "print(list(pageRank.values()))"
   ]
  },
  {
   "cell_type": "code",
   "execution_count": 16,
   "metadata": {
    "colab": {
     "base_uri": "https://localhost:8080/",
     "height": 283
    },
    "colab_type": "code",
    "id": "PGrZSWyGNCr3",
    "outputId": "adf1771f-3da0-4f6c-bc69-a5a174a8cde4"
   },
   "outputs": [
    {
     "data": {
      "image/png": "[encoded data removed]",
      "text/plain": [
       "<Figure size 432x288 with 1 Axes>"
      ]
     },
     "metadata": {
      "tags": []
     },
     "output_type": "display_data"
    }
   ],
   "source": [
    "plt.figure()\n",
    "plt.hist(list(pageRank.values()))\n",
    "plt.xlabel(\"PageRank Centrality\")\n",
    "plt.ylabel(\"Number of Nodes\")\n",
    "plt.savefig('pageRank.png')\n",
    "plt.show()"
   ]
  },
  {
   "cell_type": "code",
   "execution_count": 0,
   "metadata": {
    "colab": {},
    "colab_type": "code",
    "collapsed": true,
    "id": "FuLWYxHlNCr8"
   },
   "outputs": [],
   "source": []
  },
  {
   "cell_type": "code",
   "execution_count": 0,
   "metadata": {
    "colab": {},
    "colab_type": "code",
    "collapsed": true,
    "id": "03ybjwH3NCsA"
   },
   "outputs": [],
   "source": []
  },
  {
   "cell_type": "code",
   "execution_count": 0,
   "metadata": {
    "colab": {},
    "colab_type": "code",
    "collapsed": true,
    "id": "3SrX1XkhNCsE"
   },
   "outputs": [],
   "source": [
    "h,a = nx.hits(G,max_iter=500)"
   ]
  },
  {
   "cell_type": "code",
   "execution_count": 0,
   "metadata": {
    "colab": {},
    "colab_type": "code",
    "collapsed": true,
    "id": "2zBboTnFNCsI"
   },
   "outputs": [],
   "source": [
    "print(h.values(),a.values())"
   ]
  },
  {
   "cell_type": "code",
   "execution_count": 18,
   "metadata": {
    "colab": {
     "base_uri": "https://localhost:8080/",
     "height": 549
    },
    "colab_type": "code",
    "id": "5TjYBYIpNCsR",
    "outputId": "58351e3b-aeab-4e9a-ce95-fd63b9c053d1"
   },
   "outputs": [
    {
     "data": {
      "image/png": "[encoded data removed]",
      "text/plain": [
       "<Figure size 432x288 with 1 Axes>"
      ]
     },
     "metadata": {
      "tags": []
     },
     "output_type": "display_data"
    },
    {
     "data": {
      "image/png": "[encoded data removed]",
      "text/plain": [
       "<Figure size 432x288 with 1 Axes>"
      ]
     },
     "metadata": {
      "tags": []
     },
     "output_type": "display_data"
    }
   ],
   "source": [
    "plt.figure()\n",
    "plt.hist(list(h.values()))\n",
    "plt.xlabel(\"HITS Centrality\")\n",
    "plt.ylabel(\"Number of Nodes\")\n",
    "plt.savefig('hits_h.png')\n",
    "plt.show()\n",
    "\n",
    "plt.figure()\n",
    "plt.hist(list(a.values()))\n",
    "plt.xlabel(\"HITS Centrality\")\n",
    "plt.ylabel(\"Number of Nodes\")\n",
    "plt.savefig('hits_a.png')\n",
    "plt.show()"
   ]
  },
  {
   "cell_type": "code",
   "execution_count": 0,
   "metadata": {
    "colab": {},
    "colab_type": "code",
    "collapsed": true,
    "id": "SHWz66BRNCsW"
   },
   "outputs": [],
   "source": []
  },
  {
   "cell_type": "code",
   "execution_count": 0,
   "metadata": {
    "colab": {},
    "colab_type": "code",
    "collapsed": true,
    "id": "_LKjejoFNCsZ"
   },
   "outputs": [],
   "source": []
  },
  {
   "cell_type": "code",
   "execution_count": 0,
   "metadata": {
    "colab": {},
    "colab_type": "code",
    "collapsed": true,
    "id": "Z31gUcTrNCsi"
   },
   "outputs": [],
   "source": [
    "betweenness = nx.betweenness_centrality(G)"
   ]
  },
  {
   "cell_type": "code",
   "execution_count": 0,
   "metadata": {
    "colab": {},
    "colab_type": "code",
    "collapsed": true,
    "id": "v9Uo8Bw_NCso"
   },
   "outputs": [],
   "source": [
    "print(betweenness.values())"
   ]
  },
  {
   "cell_type": "code",
   "execution_count": 0,
   "metadata": {
    "colab": {},
    "colab_type": "code",
    "collapsed": true,
    "id": "bmgmpjHTNCsr"
   },
   "outputs": [],
   "source": [
    "plt.figure()\n",
    "plt.hist(list(Betweenness.values()))\n",
    "plt.xlabel(\"Betweenness Centrality\")\n",
    "plt.ylabel(\"Number of Nodes\")\n",
    "plt.savefig('betweenness.png')\n",
    "plt.show()"
   ]
  },
  {
   "cell_type": "code",
   "execution_count": null,
   "metadata": {
    "collapsed": true
   },
   "outputs": [],
   "source": []
  },
  {
   "cell_type": "code",
   "execution_count": null,
   "metadata": {
    "collapsed": true
   },
   "outputs": [],
   "source": [
    "import pandas as pd\n",
    "import seaborn as sns\n",
    "ds = pd.DataFrame()"
   ]
  },
  {
   "cell_type": "code",
   "execution_count": null,
   "metadata": {},
   "outputs": [],
   "source": [
    "ds['Betweenness Centrality'] = np.asarray(list(betweenness.values()))\n",
    "ds['Degree Centrality'] = np.asarray(list(deg_cent.values()))\n",
    "ds['Closeness Centrality'] = np.asarray(list(ideal.values()))\n",
    "ds['Katz Centrality'] = np.asarray(list(katz.values()))\n",
    "ds['PageRank Centrality'] = np.asarray(list(pageRank.values()))\n",
    "ds['Eigen Vector Centrality'] = np.asarray(list(eigen.values()))\n",
    "ds['HITS Centrality'] = np.asarray(list(h.values()))"
   ]
  },
  {
   "cell_type": "code",
   "execution_count": null,
   "metadata": {
    "collapsed": true
   },
   "outputs": [],
   "source": [
    "## Correlation Matrix.\n",
    "corr_mat = ds.corr()\n",
    "sns.heatmap(corr_mat);"
   ]
  }
 ],
 "metadata": {
  "colab": {
   "collapsed_sections": [],
   "name": "imdb.ipynb",
   "provenance": [],
   "version": "0.3.2"
  },
  "kernelspec": {
   "display_name": "Python 3",
   "language": "python",
   "name": "python3"
  },
  "language_info": {
   "codemirror_mode": {
    "name": "ipython",
    "version": 3
   },
   "file_extension": ".py",
   "mimetype": "text/x-python",
   "name": "python",
   "nbconvert_exporter": "python",
   "pygments_lexer": "ipython3",
   "version": "3.6.3"
  }
 },
 "nbformat": 4,
 "nbformat_minor": 1
}
