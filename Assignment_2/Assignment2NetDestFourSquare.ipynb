{
 "cells": [
  {
   "cell_type": "code",
   "execution_count": 1,
   "metadata": {
    "colab": {},
    "colab_type": "code",
    "collapsed": true,
    "id": "WylaJo5S9vHW"
   },
   "outputs": [],
   "source": [
    "import networkx as nx\n",
    "import matplotlib.pyplot as plt\n",
    "import matplotlib.colors as mcolors\n",
    "import numpy as np\n",
    "import pandas as pd\n",
    "from scipy import stats\n",
    "import math\n",
    "from scipy.sparse import csc_matrix\n",
    "import random\n",
    "import operator\n",
    "import scipy.io\n",
    "import collections\n",
    "import heapq\n",
    "\n",
    "import csv\n",
    "import random\n",
    "import numpy as np\n",
    "import pandas as pd\n",
    "import networkx as nx\n",
    "import matplotlib.pyplot as plt\n",
    "from math import log\n",
    "from scipy import stats\n",
    "from sklearn.decomposition import PCA\n",
    "\n",
    "%matplotlib inline\n",
    "plt.rcParams['figure.figsize'] = 4, 4\n",
    "subSize=10000"
   ]
  },
  {
   "cell_type": "code",
   "execution_count": 5,
   "metadata": {
    "colab": {
     "base_uri": "https://localhost:8080/",
     "height": 74,
     "resources": {
      "http://localhost:8080/nbextensions/google.colab/files.js": {
       "data": "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",
       "headers": [
        [
         "content-type",
         "application/javascript"
        ]
       ],
       "ok": true,
       "status": 200,
       "status_text": ""
      }
     }
    },
    "colab_type": "code",
    "id": "Gna8BAoMSt4u",
    "outputId": "287acc49-3f6f-4139-f83b-8104cd669941"
   },
   "outputs": [
    {
     "data": {
      "text/html": [
       "\n",
       "     <input type=\"file\" id=\"files-10e4f82a-c5d4-4e48-8e35-3ddb9e6a25f9\" name=\"files[]\" multiple disabled />\n",
       "     <output id=\"result-10e4f82a-c5d4-4e48-8e35-3ddb9e6a25f9\">\n",
       "      Upload widget is only available when the cell has been executed in the\n",
       "      current browser session. Please rerun this cell to enable.\n",
       "      </output>\n",
       "      <script src=\"/nbextensions/google.colab/files.js\"></script> "
      ],
      "text/plain": [
       "<IPython.core.display.HTML object>"
      ]
     },
     "metadata": {
      "tags": []
     },
     "output_type": "display_data"
    },
    {
     "name": "stdout",
     "output_type": "stream",
     "text": [
      "Saving dataset_ubicomp2013_checkins.txt to dataset_ubicomp2013_checkins.txt\n"
     ]
    }
   ],
   "source": [
    "from google.colab import files\n",
    "uploaded = files.upload()"
   ]
  },
  {
   "cell_type": "code",
   "execution_count": 0,
   "metadata": {
    "colab": {},
    "colab_type": "code",
    "collapsed": true,
    "id": "tSWr2-NW-qhU"
   },
   "outputs": [],
   "source": [
    "def load_restaurant_dataset():\n",
    "    path = 'dataset_ubicomp2013_checkins.txt'\n",
    "    infile = open(path, 'r')\n",
    "    a = set()\n",
    "    b = set()\n",
    "    edges = []\n",
    "    for line in infile:\n",
    "        s=line.strip().split(None)\n",
    "        u=-1*int(s.pop(0)) -10\n",
    "        v=int(s.pop(0))\n",
    "        a.add(u)\n",
    "        b.add(v)\n",
    "        edges.append((u,v))\n",
    "    top_nodes = {}\n",
    "    bottom_nodes = {}\n",
    "    count = 0 \n",
    "    for x in a:\n",
    "        top_nodes[x] = count\n",
    "        count = count + 1\n",
    "    count  = 0    \n",
    "    for y in b:\n",
    "        bottom_nodes[y] = count\n",
    "        count  = count + 1\n",
    "    \n",
    "    A = np.zeros((len(a),len(b)))\n",
    "    for edge in edges:\n",
    "        e1 = top_nodes[edge[0]]\n",
    "        e2 = bottom_nodes[edge[1]]\n",
    "        A[e1, e2] = 1\n",
    "    \n",
    "    A = np.dot(A,A.T)\n",
    "    for i in range(0,A.shape[0]):\n",
    "        for j in range(0,A.shape[1]):\n",
    "            if i == j :\n",
    "                A[i,j] = 0\n",
    "            else:\n",
    "                if A[i,j] != 0:\n",
    "                  A[i,j] = 1\n",
    "                else:\n",
    "                  A[i,j] = 0\n",
    "          \n",
    "                                     \n",
    "    G=nx.from_numpy_matrix(A)\n",
    "    return G\n",
    "G = load_restaurant_dataset()"
   ]
  },
  {
   "cell_type": "code",
   "execution_count": 0,
   "metadata": {
    "colab": {},
    "colab_type": "code",
    "collapsed": true,
    "id": "CmkA6vvcwTV4"
   },
   "outputs": [],
   "source": [
    "def Degree_Distribution(GA):\n",
    "    degree_sequence = sorted([d for n, d in GA.degree()], reverse=True)  # degree sequence\n",
    "    degreeCount = collections.Counter(degree_sequence)\n",
    "    deg, cnt = zip(*degreeCount.items())\n",
    "\n",
    "    fig, ax = plt.subplots()\n",
    "    plt.bar(deg, cnt, width=0.80, color='b')\n",
    "\n",
    "    plt.title(\"Degree Distribution\")\n",
    "    plt.ylabel(\"Count\")\n",
    "    plt.xlabel(\"Degree\")\n",
    "    plt.show() \n",
    "\n",
    "def plot_clustering(GA):\n",
    "  cluster = nx.clustering(GA)\n",
    "  plt.hist(cluster.values())\n",
    "  plt.xlabel(\"Clustering Coeficient\")\n",
    "  plt.ylabel(\"No of Nodes\")\n",
    "  plt.show()\n",
    "\n",
    "def get_giant_cluster(GA):\n",
    "  GC = max(nx.connected_component_subgraphs(GA), key=len)\n",
    "  print(\"Nodes in giant cluster = \" ,GC.number_of_nodes())\n",
    "  diameter = nx.algorithms.distance_measures.diameter(GA)\n",
    "  print(\"diameter = \" , diameter)\n"
   ]
  },
  {
   "cell_type": "code",
   "execution_count": 0,
   "metadata": {
    "colab": {},
    "colab_type": "code",
    "collapsed": true,
    "id": "s5qvQ_5T5gxW"
   },
   "outputs": [],
   "source": []
  },
  {
   "cell_type": "code",
   "execution_count": 92,
   "metadata": {
    "colab": {
     "base_uri": "https://localhost:8080/",
     "height": 901
    },
    "colab_type": "code",
    "id": "aTZ9rr3PwhvL",
    "outputId": "40909226-8322-4a01-f056-8da7beb31d9d"
   },
   "outputs": [
    {
     "data": {
      "image/png": "[encoded data removed]",
      "text/plain": [
       "<Figure size 288x288 with 1 Axes>"
      ]
     },
     "metadata": {
      "tags": []
     },
     "output_type": "display_data"
    },
    {
     "data": {
      "image/png": "[encoded data removed]",
      "text/plain": [
       "<Figure size 288x288 with 1 Axes>"
      ]
     },
     "metadata": {
      "tags": []
     },
     "output_type": "display_data"
    },
    {
     "name": "stdout",
     "output_type": "stream",
     "text": [
      "Nodes in giant cluster =  2045\n"
     ]
    },
    {
     "ename": "NetworkXError",
     "evalue": "ignored",
     "output_type": "error",
     "traceback": [
      "\u001b[0;31m---------------------------------------------------------------------------\u001b[0m",
      "\u001b[0;31mNetworkXError\u001b[0m                             Traceback (most recent call last)",
      "\u001b[0;32m<ipython-input-92-425de63a57b6>\u001b[0m in \u001b[0;36m<module>\u001b[0;34m()\u001b[0m\n\u001b[1;32m      1\u001b[0m \u001b[0mDegree_Distribution\u001b[0m\u001b[0;34m(\u001b[0m\u001b[0mG\u001b[0m\u001b[0;34m)\u001b[0m\u001b[0;34m\u001b[0m\u001b[0;34m\u001b[0m\u001b[0m\n\u001b[1;32m      2\u001b[0m \u001b[0mplot_clustering\u001b[0m\u001b[0;34m(\u001b[0m\u001b[0mG\u001b[0m\u001b[0;34m)\u001b[0m\u001b[0;34m\u001b[0m\u001b[0;34m\u001b[0m\u001b[0m\n\u001b[0;32m----> 3\u001b[0;31m \u001b[0mget_giant_cluster\u001b[0m\u001b[0;34m(\u001b[0m\u001b[0mG\u001b[0m\u001b[0;34m)\u001b[0m\u001b[0;34m\u001b[0m\u001b[0;34m\u001b[0m\u001b[0m\n\u001b[0m",
      "\u001b[0;32m<ipython-input-90-4ee8d5c6c42d>\u001b[0m in \u001b[0;36mget_giant_cluster\u001b[0;34m(G)\u001b[0m\n\u001b[1;32m     22\u001b[0m   \u001b[0mGC\u001b[0m \u001b[0;34m=\u001b[0m \u001b[0mmax\u001b[0m\u001b[0;34m(\u001b[0m\u001b[0mnx\u001b[0m\u001b[0;34m.\u001b[0m\u001b[0mconnected_component_subgraphs\u001b[0m\u001b[0;34m(\u001b[0m\u001b[0mG\u001b[0m\u001b[0;34m)\u001b[0m\u001b[0;34m,\u001b[0m \u001b[0mkey\u001b[0m\u001b[0;34m=\u001b[0m\u001b[0mlen\u001b[0m\u001b[0;34m)\u001b[0m\u001b[0;34m\u001b[0m\u001b[0;34m\u001b[0m\u001b[0m\n\u001b[1;32m     23\u001b[0m   \u001b[0mprint\u001b[0m\u001b[0;34m(\u001b[0m\u001b[0;34m\"Nodes in giant cluster = \"\u001b[0m \u001b[0;34m,\u001b[0m\u001b[0mGC\u001b[0m\u001b[0;34m.\u001b[0m\u001b[0mnumber_of_nodes\u001b[0m\u001b[0;34m(\u001b[0m\u001b[0;34m)\u001b[0m\u001b[0;34m)\u001b[0m\u001b[0;34m\u001b[0m\u001b[0;34m\u001b[0m\u001b[0m\n\u001b[0;32m---> 24\u001b[0;31m   \u001b[0mdiameter\u001b[0m \u001b[0;34m=\u001b[0m \u001b[0mnx\u001b[0m\u001b[0;34m.\u001b[0m\u001b[0malgorithms\u001b[0m\u001b[0;34m.\u001b[0m\u001b[0mdistance_measures\u001b[0m\u001b[0;34m.\u001b[0m\u001b[0mdiameter\u001b[0m\u001b[0;34m(\u001b[0m\u001b[0mG\u001b[0m\u001b[0;34m)\u001b[0m\u001b[0;34m\u001b[0m\u001b[0;34m\u001b[0m\u001b[0m\n\u001b[0m\u001b[1;32m     25\u001b[0m   \u001b[0mprint\u001b[0m\u001b[0;34m(\u001b[0m\u001b[0;34m\"diameter = \"\u001b[0m \u001b[0;34m,\u001b[0m \u001b[0mdiameter\u001b[0m\u001b[0;34m)\u001b[0m\u001b[0;34m\u001b[0m\u001b[0;34m\u001b[0m\u001b[0m\n",
      "\u001b[0;32m/usr/local/lib/python3.6/dist-packages/networkx/algorithms/distance_measures.py\u001b[0m in \u001b[0;36mdiameter\u001b[0;34m(G, e, usebounds)\u001b[0m\n\u001b[1;32m    274\u001b[0m         \u001b[0;32mreturn\u001b[0m \u001b[0mextrema_bounding\u001b[0m\u001b[0;34m(\u001b[0m\u001b[0mG\u001b[0m\u001b[0;34m,\u001b[0m \u001b[0mcompute\u001b[0m\u001b[0;34m=\u001b[0m\u001b[0;34m\"diameter\"\u001b[0m\u001b[0;34m)\u001b[0m\u001b[0;34m\u001b[0m\u001b[0;34m\u001b[0m\u001b[0m\n\u001b[1;32m    275\u001b[0m     \u001b[0;32mif\u001b[0m \u001b[0me\u001b[0m \u001b[0;32mis\u001b[0m \u001b[0;32mNone\u001b[0m\u001b[0;34m:\u001b[0m\u001b[0;34m\u001b[0m\u001b[0;34m\u001b[0m\u001b[0m\n\u001b[0;32m--> 276\u001b[0;31m         \u001b[0me\u001b[0m \u001b[0;34m=\u001b[0m \u001b[0meccentricity\u001b[0m\u001b[0;34m(\u001b[0m\u001b[0mG\u001b[0m\u001b[0;34m)\u001b[0m\u001b[0;34m\u001b[0m\u001b[0;34m\u001b[0m\u001b[0m\n\u001b[0m\u001b[1;32m    277\u001b[0m     \u001b[0;32mreturn\u001b[0m \u001b[0mmax\u001b[0m\u001b[0;34m(\u001b[0m\u001b[0me\u001b[0m\u001b[0;34m.\u001b[0m\u001b[0mvalues\u001b[0m\u001b[0;34m(\u001b[0m\u001b[0;34m)\u001b[0m\u001b[0;34m)\u001b[0m\u001b[0;34m\u001b[0m\u001b[0;34m\u001b[0m\u001b[0m\n\u001b[1;32m    278\u001b[0m \u001b[0;34m\u001b[0m\u001b[0m\n",
      "\u001b[0;32m/usr/local/lib/python3.6/dist-packages/networkx/algorithms/distance_measures.py\u001b[0m in \u001b[0;36meccentricity\u001b[0;34m(G, v, sp)\u001b[0m\n\u001b[1;32m    239\u001b[0m                 msg = ('Found infinite path length because the graph is not'\n\u001b[1;32m    240\u001b[0m                        ' connected')\n\u001b[0;32m--> 241\u001b[0;31m             \u001b[0;32mraise\u001b[0m \u001b[0mnetworkx\u001b[0m\u001b[0;34m.\u001b[0m\u001b[0mNetworkXError\u001b[0m\u001b[0;34m(\u001b[0m\u001b[0mmsg\u001b[0m\u001b[0;34m)\u001b[0m\u001b[0;34m\u001b[0m\u001b[0;34m\u001b[0m\u001b[0m\n\u001b[0m\u001b[1;32m    242\u001b[0m \u001b[0;34m\u001b[0m\u001b[0m\n\u001b[1;32m    243\u001b[0m         \u001b[0me\u001b[0m\u001b[0;34m[\u001b[0m\u001b[0mn\u001b[0m\u001b[0;34m]\u001b[0m \u001b[0;34m=\u001b[0m \u001b[0mmax\u001b[0m\u001b[0;34m(\u001b[0m\u001b[0mlength\u001b[0m\u001b[0;34m.\u001b[0m\u001b[0mvalues\u001b[0m\u001b[0;34m(\u001b[0m\u001b[0;34m)\u001b[0m\u001b[0;34m)\u001b[0m\u001b[0;34m\u001b[0m\u001b[0;34m\u001b[0m\u001b[0m\n",
      "\u001b[0;31mNetworkXError\u001b[0m: Found infinite path length because the graph is not connected"
     ]
    }
   ],
   "source": [
    "Degree_Distribution(G)\n",
    "plot_clustering(G)\n",
    "get_giant_cluster(G)"
   ]
  },
  {
   "cell_type": "code",
   "execution_count": 17,
   "metadata": {
    "colab": {
     "base_uri": "https://localhost:8080/",
     "height": 745
    },
    "colab_type": "code",
    "id": "6QNNcii9opyG",
    "outputId": "ef48b4a7-ce5f-4546-f006-71c6c7e8fd28"
   },
   "outputs": [
    {
     "name": "stdout",
     "output_type": "stream",
     "text": [
      "Name: \n",
      "Type: Graph\n",
      "Number of nodes: 2060\n",
      "Number of edges: 58810\n",
      "Average degree:  57.0971\n",
      "2060\n",
      "58810\n",
      "False\n",
      "{86: 114.12050739957716, 150: 115.6, 41: 108.96818663838812, 71: 117.74245472837022, 73: 120.5662100456621, 64: 107.72265625, 30: 111.42, 2: 75.35526315789474, 38: 123.5216718266254, 12: 103.05833333333334, 16: 106.81681034482759, 106: 120.72641509433963, 36: 112.89153439153439, 3: 77.45370370370371, 297: 112.9023569023569, 77: 113.80389610389611, 57: 106.84345479082322, 37: 116.12039312039312, 23: 105.54919908466819, 11: 101.56871035940803, 46: 107.51521739130435, 117: 122.05982905982906, 10: 93.59130434782608, 84: 136.20634920634922, 24: 102.55637254901961, 6: 92.09649122807018, 155: 117.11612903225806, 68: 117.43300653594771, 14: 94.60164835164835, 27: 103.99305555555556, 112: 126.0625, 28: 105.58766233766234, 20: 103.85952380952381, 176: 130.08238636363637, 111: 119.6951951951952, 49: 117.8061224489796, 104: 120.76923076923077, 8: 87.93055555555556, 143: 118.89277389277389, 4: 84.67777777777778, 1: 97.94285714285714, 130: 113.15494505494506, 52: 112.12795857988165, 92: 117.10573122529644, 18: 97.0978835978836, 215: 119.2860465116279, 48: 112.1140350877193, 5: 83.92121212121212, 229: 126.58733624454149, 42: 106.03571428571429, 127: 109.08792650918635, 156: 124.46794871794872, 65: 119.21692307692308, 58: 114.10344827586206, 19: 105.62348178137651, 32: 109.41176470588235, 34: 111.92745098039215, 15: 99.02133333333333, 138: 115.66908212560386, 51: 109.20751633986929, 21: 96.06593406593407, 147: 127.93537414965986, 33: 113.2038567493113, 76: 108.41353383458646, 35: 106.63361344537815, 105: 111.01269841269841, 9: 95.68834688346884, 110: 115.43454545454546, 43: 122.87375415282392, 99: 125.77200577200577, 29: 107.76518883415436, 63: 116.82905982905983, 264: 115.06060606060606, 85: 120.59465240641711, 62: 123.76344086021506, 118: 109.52754237288136, 66: 116.2972027972028, 303: 116.5973597359736, 55: 113.93787878787879, 45: 115.15424836601308, 25: 103.43809523809524, 56: 115.33928571428571, 22: 108.6, 74: 118.6, 162: 129.8641975308642, 79: 115.50070323488045, 101: 121.37128712871286, 125: 112.116, 13: 95.13960113960114, 17: 102.97722960151803, 107: 116.78816199376946, 31: 111.01075268817205, 151: 112.37748344370861, 7: 85.97297297297297, 153: 121.05415499533147, 70: 122.91428571428571, 377: 120.04244031830238, 113: 109.38407079646018, 188: 118.28404255319148, 61: 115.74043715846994, 53: 117.63584905660377, 50: 112.24111111111111, 26: 108.22575250836121, 148: 122.82432432432432, 59: 119.7470664928292, 72: 120.95987654320987, 201: 130.55223880597015, 0: 0, 222: 117.73573573573573, 120: 124.02333333333333, 98: 127.533527696793, 158: 122.55696202531645, 115: 123.79826086956521, 39: 110.3076923076923, 108: 127.5037037037037, 170: 120.16470588235295, 135: 130.05777777777777, 122: 116.04098360655738, 220: 116.36363636363636, 140: 121.9452380952381, 182: 116.32967032967034, 95: 118.83684210526316, 172: 113.84593023255815, 75: 117.85641025641026, 185: 121.95405405405405, 47: 111.17966903073287, 212: 111.73584905660377, 145: 114.183908045977, 192: 126.26041666666667, 80: 121.99431818181819, 208: 133.09615384615384, 97: 108.06529209621993, 169: 130.52662721893492, 40: 118.38888888888889, 164: 124.23018292682927, 89: 116.95755305867665, 139: 128.22781774580335, 44: 112.95334928229666, 234: 125.1474358974359, 121: 122.9504132231405, 123: 116.1260162601626, 160: 110.18125, 109: 114.3914373088685, 116: 132.42456896551724, 165: 128.1030303030303, 87: 118.42816091954023, 119: 115.3781512605042, 96: 136.79513888888889, 132: 118.28939393939395, 154: 131.96536796536796, 223: 120.24514200298954, 54: 112.53042328042328, 81: 110.38477366255144, 142: 119.11267605633803, 171: 117.63450292397661, 137: 114.65206812652067, 100: 119.60111111111111, 159: 112.73375262054508, 195: 135.8051282051282, 128: 110.82942708333333, 60: 120.92564102564103, 67: 108.36567164179104, 78: 114.23931623931624, 277: 124.4404332129964, 103: 117.60194174757281, 114: 126.55438596491229, 181: 117.58011049723757, 152: 114.26315789473684, 193: 108.33160621761658, 180: 126.84074074074074, 124: 118.12903225806451, 206: 123.66019417475728, 146: 110.52511415525115, 191: 124.79232111692845, 90: 128.36333333333334, 167: 119.80838323353294, 93: 123.24731182795699, 173: 116.01734104046243, 209: 118.99282296650718, 236: 118.03389830508475, 199: 121.30820770519263, 83: 109.7078313253012, 131: 117.50127226463104, 237: 113.55274261603375, 221: 121.88461538461539, 82: 124.41056910569105, 207: 110.14734299516908, 69: 121.15398550724638, 524: 104.50381679389314, 211: 120.42654028436019, 257: 106.85992217898833, 134: 106.7518656716418, 466: 104.97210300429184, 233: 107.45922746781116, 226: 109.70796460176992, 94: 122.53191489361703, 88: 115.67329545454545, 217: 117.97235023041475, 296: 119.25337837837837, 210: 121.96428571428571, 174: 111.41666666666667, 168: 140.42857142857142, 178: 107.47752808988764, 219: 113.07762557077625, 136: 122.94607843137256, 129: 114.93540051679587, 246: 118.1178861788618, 166: 118.6987951807229, 91: 111.6996336996337, 141: 114.51418439716312, 198: 107.62626262626263, 363: 110.71625344352617, 332: 108.26506024096386, 102: 115.73039215686275, 335: 109.37014925373134, 163: 105.1042944785276, 225: 111.44444444444444, 197: 110.00507614213198, 126: 110.82142857142857, 340: 110.24411764705883, 258: 111.64728682170542, 175: 117.16, 189: 118.47619047619048, 133: 107.6842105263158, 291: 111.56013745704468, 280: 111.51428571428572, 144: 107.95138888888889, 202: 136.13366336633663, 338: 114.00295857988165, 179: 119.31843575418995, 261: 129.75095785440612, 177: 115.88700564971751, 194: 122.44845360824742, 190: 118.08947368421053, 183: 111.73770491803279, 287: 102.61672473867596, 242: 112.30578512396694}\n",
      "2.417796257398361\n",
      "0\n",
      "0\n",
      "0\n",
      "0\n",
      "0\n",
      "0\n",
      "0\n",
      "0\n",
      "0\n",
      "0\n",
      "0\n",
      "0\n",
      "0\n",
      "0\n",
      "0\n",
      "0.4578995252895736\n"
     ]
    },
    {
     "data": {
      "image/png": "[encoded data removed]",
      "text/plain": [
       "<Figure size 288x288 with 1 Axes>"
      ]
     },
     "metadata": {
      "tags": []
     },
     "output_type": "display_data"
    }
   ],
   "source": [
    "print(nx.info(G))\n",
    "print(nx.number_of_nodes(G))\n",
    "print(nx.number_of_edges(G))\n",
    "print(nx.is_directed(G))\n",
    "print(nx.average_degree_connectivity(G))\n",
    "for C in nx.connected_component_subgraphs(G):\n",
    "    print(nx.average_shortest_path_length(C))\n",
    "yg=[len(c) for c in nx.connected_component_subgraphs(G)]\n",
    "plt.ylabel(\"No. of Cluster\")\n",
    "plt.xlabel(\"No. of nodes\")\n",
    "plt.hist(yg)\n",
    "print(nx.average_clustering(G))"
   ]
  },
  {
   "cell_type": "code",
   "execution_count": 94,
   "metadata": {
    "colab": {
     "base_uri": "https://localhost:8080/",
     "height": 442
    },
    "colab_type": "code",
    "id": "azFVW7cWfcW4",
    "outputId": "32c9b780-93f8-407e-bddf-120c02d96b1c"
   },
   "outputs": [
    {
     "name": "stdout",
     "output_type": "stream",
     "text": [
      "Name: \n",
      "Type: Graph\n",
      "Number of nodes: 2060\n",
      "Number of edges: 58810\n",
      "Average degree:  57.0971\n",
      "Name: \n",
      "Type: Graph\n",
      "Number of nodes: 2060\n",
      "Number of edges: 58810\n",
      "Average degree:  57.0971\n",
      "Name: \n",
      "Type: Graph\n",
      "Number of nodes: 2060\n",
      "Number of edges: 58810\n",
      "Average degree:  57.0971\n",
      "Name: \n",
      "Type: Graph\n",
      "Number of nodes: 2060\n",
      "Number of edges: 58810\n",
      "Average degree:  57.0971\n",
      "Name: \n",
      "Type: Graph\n",
      "Number of nodes: 2060\n",
      "Number of edges: 58810\n",
      "Average degree:  57.0971\n"
     ]
    }
   ],
   "source": [
    "G_CN = G.copy()\n",
    "print(nx.info(G_CN))\n",
    "G_JC = G.copy()\n",
    "print(nx.info(G_JC))\n",
    "G_AA = G.copy()\n",
    "print(nx.info(G_AA))\n",
    "G_RA = G.copy()\n",
    "print(nx.info(G_RA))\n",
    "G_PA = G.copy()\n",
    "print(nx.info(G_PA))"
   ]
  },
  {
   "cell_type": "code",
   "execution_count": 0,
   "metadata": {
    "colab": {},
    "colab_type": "code",
    "collapsed": true,
    "id": "rgHHI1eDVQdf"
   },
   "outputs": [],
   "source": [
    "total_edges=list(G.edges())\n",
    "methods=['CN','JC','AA','RA','PA','KZ','RP']\n",
    "allm={m:{} for m in methods}"
   ]
  },
  {
   "cell_type": "code",
   "execution_count": 0,
   "metadata": {
    "colab": {},
    "colab_type": "code",
    "collapsed": true,
    "id": "vqqX3xxMT8Mz"
   },
   "outputs": [],
   "source": [
    "\n",
    "for p in total_edges:\n",
    "        n1,n2=p\n",
    "        ngh1 = set(G[n1])\n",
    "        ngh2 = set(G[n2])\n",
    "        inter = ngh1.intersection(ngh2) # ngh1 & ngh2\n",
    "        inter_l = len(inter)\n",
    "        union_l = len(ngh1.union(ngh2)) #ngh1 | ngh2            \n",
    "        \n",
    "        allm['CN'][p]=inter_l\n",
    "        allm['JC'][p]=(inter_l/union_l) if union_l else 0.0\n",
    "        allm['AA'][p]=sum([1/log(len(G[z])) for z in inter]) # denom cant be zero as atleast 2 edges\n",
    "        allm['RA'][p]=sum([1/len(G[z]) for z in inter])\n",
    "        allm['PA'][p]=len(ngh1)*len(ngh2)\n",
    "        \n"
   ]
  },
  {
   "cell_type": "code",
   "execution_count": 0,
   "metadata": {
    "colab": {},
    "colab_type": "code",
    "collapsed": true,
    "id": "_73PDfuOV7yX"
   },
   "outputs": [],
   "source": [
    "Existing={}\n",
    "for m in methods:\n",
    "    Existing[m] = sorted([(e,allm[m][e]) for e in total_edges],key=lambda x:x[1],reverse=True)"
   ]
  },
  {
   "cell_type": "code",
   "execution_count": 115,
   "metadata": {
    "colab": {
     "base_uri": "https://localhost:8080/",
     "height": 1000
    },
    "colab_type": "code",
    "id": "tka_b4U8XEj9",
    "outputId": "b29bdbb4-a625-46cb-c5b9-8456d4f165cc"
   },
   "outputs": [
    {
     "name": "stdout",
     "output_type": "stream",
     "text": [
      "{0: 0, 75: 42.39, 41: 44.27673545966229, 34: 44.89572192513369, 38: 43.62393887945671, 21: 43.017857142857146, 17: 43.86800573888092, 60: 42.994166666666665, 30: 43.333333333333336, 2: 35.30263157894737, 12: 45.83119658119658, 16: 46.016447368421055, 20: 43.269444444444446, 3: 39.58730158730159, 11: 46.15104895104895, 31: 43.26302729528536, 27: 45.93265993265993, 37: 45.01677539608574, 23: 43.093969144460026, 45: 42.28496732026144, 10: 42.63703703703704, 24: 44.640625, 6: 42.92176870748299, 62: 42.24486803519061, 61: 42.09205548549811, 14: 43.59126984126984, 26: 43.44230769230769, 66: 41.303030303030305, 28: 43.77626050420168, 19: 43.80952380952381, 18: 44.82567049808429, 8: 41.16326530612245, 4: 37.932291666666664, 1: 36.64102564102564, 77: 38.45454545454545, 22: 44.43766233766234, 47: 42.91489361702128, 56: 41.94805194805195, 39: 44.42773892773893, 48: 42.004629629629626, 36: 44.034946236559136, 5: 41.48571428571429, 35: 42.82222222222222, 42: 43.429453262786595, 70: 40.7, 40: 42.915, 15: 43.98235294117647, 43: 41.8671096345515, 32: 45.03515625, 33: 43.96408529741863, 9: 43.68803418803419, 7: 40.532738095238095, 46: 44.56107660455486, 63: 40.97979797979798, 57: 42.89912280701754, 29: 44.522167487684726, 52: 42.85496794871795, 55: 41.09318181818182, 67: 39.36318407960199, 25: 45.568, 13: 42.69230769230769, 59: 41.31016949152542, 53: 43.13945857260049, 65: 41.47132867132867, 51: 42.84313725490196, 64: 42.2, 44: 44.739669421487605, 89: 40.97752808988764, 68: 40.86764705882353, 72: 41.452777777777776, 50: 43.03090909090909, 49: 42.68445839874411, 58: 40.69396551724138, 82: 42.40650406504065, 85: 39.129411764705885, 69: 39.96376811594203, 86: 40.53488372093023, 76: 38.58479532163743, 54: 41.01337448559671, 71: 38.28169014084507, 79: 43.107594936708864, 73: 33.76712328767123, 90: 38.294444444444444, 74: 39.84864864864865, 97: 34.94845360824742, 81: 45.641975308641975, 103: 40.01456310679612, 88: 41.27840909090909, 95: 35.72631578947368, 78: 46.80769230769231, 84: 41.07738095238095, 80: 42.8875, 104: 40.49038461538461, 87: 33.28735632183908}\n",
      "0\n",
      "2.7240028792546127\n",
      "0\n",
      "0\n",
      "0\n",
      "0\n",
      "0\n",
      "0\n",
      "0\n",
      "0\n",
      "0\n",
      "0\n",
      "0\n",
      "0\n",
      "0\n",
      "0\n",
      "0\n",
      "0\n",
      "0\n",
      "0\n",
      "0\n",
      "0\n",
      "0\n",
      "0\n",
      "0\n",
      "0\n",
      "0\n",
      "0\n",
      "0\n",
      "0\n",
      "0\n",
      "0\n",
      "0\n",
      "0\n",
      "0\n",
      "0\n",
      "0\n",
      "0\n",
      "0\n",
      "0\n",
      "0\n",
      "0\n",
      "0\n",
      "0\n",
      "0\n",
      "0\n",
      "0\n",
      "0\n",
      "0\n",
      "0\n",
      "0\n",
      "0\n",
      "0\n",
      "0\n",
      "0.30763527220867737\n"
     ]
    },
    {
     "data": {
      "image/png": "[encoded data removed]",
      "text/plain": [
       "<Figure size 288x288 with 1 Axes>"
      ]
     },
     "metadata": {
      "tags": []
     },
     "output_type": "display_data"
    }
   ],
   "source": [
    "G_CN.remove_edges_from([i[0] for i in Existing['CN'][:30000]])\n",
    "print(nx.average_degree_connectivity(G_CN))\n",
    "for C in nx.connected_component_subgraphs(G_CN):\n",
    "    print(nx.average_shortest_path_length(C))\n",
    "x=[len(c) for c in nx.connected_component_subgraphs(G_CN)]\n",
    "plt.hist(x)\n",
    "print(nx.average_clustering(G_CN))"
   ]
  },
  {
   "cell_type": "code",
   "execution_count": 116,
   "metadata": {
    "colab": {
     "base_uri": "https://localhost:8080/",
     "height": 731
    },
    "colab_type": "code",
    "id": "crXvqj8AXcby",
    "outputId": "0e9a68ea-c863-428d-cf06-f812d1bdc25f"
   },
   "outputs": [
    {
     "name": "stdout",
     "output_type": "stream",
     "text": [
      "{5: 84.84878048780487, 99: 50.9057239057239, 29: 75.34084880636605, 16: 72.22786458333333, 31: 66.80337941628264, 27: 74.54700854700855, 8: 81.654296875, 51: 61.84313725490196, 20: 71.95, 33: 66.05270092226614, 2: 66.57792207792208, 12: 77.88666666666667, 7: 68.81239242685025, 18: 76.35802469135803, 36: 67.37393162393163, 9: 80.93548387096774, 135: 38.733333333333334, 21: 79.87301587301587, 22: 74.61515151515151, 15: 76.02948717948718, 65: 58.88205128205128, 0: 0, 24: 73.87760416666667, 3: 68.66190476190476, 89: 55.62546816479401, 54: 62.21399176954733, 14: 77.43239795918367, 28: 69.62142857142857, 66: 61.83901515151515, 13: 71.63338788870703, 59: 64.5542372881356, 10: 73.78387096774193, 35: 71.08831168831169, 40: 67.56029411764706, 1: 83.68627450980392, 104: 53.59134615384615, 85: 54.423529411764704, 53: 62.568396226415096, 23: 70.6123188405797, 4: 69.25714285714285, 64: 53.1953125, 77: 60.17694805194805, 42: 66.93977591036415, 6: 72.53030303030303, 48: 61.75868055555556, 58: 62.50191570881226, 57: 64.62360446570973, 81: 54.162962962962965, 69: 61.65096618357488, 121: 45.02892561983471, 25: 74.7425, 45: 64.2311111111111, 30: 67.52738095238095, 41: 67.66041275797373, 67: 55.50248756218905, 43: 60.541528239202655, 158: 42.651898734177216, 11: 81.30194805194805, 49: 61.97959183673469, 47: 63.59858156028369, 79: 56.94092827004219, 52: 58.205128205128204, 17: 80.45151033386327, 94: 52.86879432624114, 38: 67.72039473684211, 162: 36.72839506172839, 103: 49.87239944521498, 46: 64.77667984189723, 19: 76.58089668615985, 62: 54.59139784946237, 75: 57.88333333333333, 70: 61.95918367346939, 83: 54.90602409638554, 32: 70.84635416666667, 134: 47.735074626865675, 97: 53.40979381443299, 82: 50.58536585365854, 71: 60.77699530516432, 68: 53.27205882352941, 125: 48.528, 26: 72.9919028340081, 61: 57.0, 60: 60.68333333333333, 56: 63.061688311688314, 55: 59.50727272727273, 74: 54.00810810810811, 44: 68.08522727272727, 113: 47.12684365781711, 34: 66.58823529411765, 84: 54.82539682539682, 76: 58.333333333333336, 72: 52.50833333333333, 106: 51.93632075471698, 37: 72.16409266409266, 39: 67.00976800976801, 116: 46.519396551724135, 80: 54.2375, 108: 51.2962962962963, 142: 48.91549295774648, 63: 66.98015873015873, 109: 52.293577981651374, 73: 51.70319634703196, 118: 48.94915254237288, 87: 55.15632183908046, 119: 45.88235294117647, 122: 43.5, 50: 62.58, 356: 34.37921348314607, 100: 43.3, 141: 40.645390070921984, 316: 38.75316455696203, 126: 49.145502645502646, 90: 57.98888888888889, 110: 51.64848484848485, 107: 50.47663551401869, 91: 50.39120879120879, 102: 49.745098039215684, 160: 42.496875, 131: 43.61068702290076, 111: 45.52252252252252, 161: 41.22981366459627, 96: 53.791666666666664, 92: 50.57608695652174, 222: 36.166666666666664, 214: 37.67289719626168, 123: 49.829268292682926, 223: 45.044843049327355, 101: 47.524752475247524, 173: 40.895953757225435, 138: 45.48550724637681, 88: 53.26136363636363, 93: 53.27956989247312, 128: 47.7109375, 137: 56.88321167883212, 218: 38.10091743119266, 98: 47.94387755102041, 105: 44.128571428571426, 78: 65.66666666666667, 203: 42.970443349753694, 115: 57.573913043478264, 86: 50.95348837209303, 220: 41.413636363636364, 139: 42.54676258992806}\n",
      "2.651322344099773\n",
      "0\n",
      "0\n",
      "0\n",
      "0\n",
      "0\n",
      "0\n",
      "0\n",
      "0\n",
      "0\n",
      "0\n",
      "0\n",
      "0\n",
      "0\n",
      "0\n",
      "0\n",
      "0\n",
      "0\n",
      "0\n",
      "0\n",
      "0\n",
      "0\n",
      "0\n",
      "0\n",
      "0.2789983735124353\n"
     ]
    },
    {
     "data": {
      "image/png": "[encoded data removed]",
      "text/plain": [
       "<Figure size 288x288 with 1 Axes>"
      ]
     },
     "metadata": {
      "tags": []
     },
     "output_type": "display_data"
    }
   ],
   "source": [
    "G_JC.remove_edges_from([i[0] for i in Existing['JC'][:30000]])\n",
    "print(nx.average_degree_connectivity(G_JC))\n",
    "for C in nx.connected_component_subgraphs(G_JC):\n",
    "    print(nx.average_shortest_path_length(C))\n",
    "y=[len(c) for c in nx.connected_component_subgraphs(G_JC)]\n",
    "plt.hist(y)\n",
    "print(nx.average_clustering(G_JC))"
   ]
  },
  {
   "cell_type": "code",
   "execution_count": 117,
   "metadata": {
    "colab": {
     "base_uri": "https://localhost:8080/",
     "height": 1000
    },
    "colab_type": "code",
    "id": "nxmfEHzwd4O0",
    "outputId": "b7c754d6-7c91-4d1d-a92b-80fb0cdd6e37"
   },
   "outputs": [
    {
     "name": "stdout",
     "output_type": "stream",
     "text": [
      "{1: 36.875, 75: 41.74, 41: 44.17627494456763, 34: 44.166666666666664, 38: 45.06666666666667, 21: 42.84632034632035, 16: 45.52743902439025, 59: 41.38898305084746, 30: 43.19555555555556, 2: 35.31578947368421, 12: 46.37103174603175, 19: 43.63029525032093, 27: 44.4537037037037, 3: 39.476190476190474, 37: 44.31220876048462, 11: 45.97585227272727, 26: 43.41268191268191, 23: 43.88801054018445, 46: 43.92892976588629, 10: 41.973076923076924, 0: 0, 24: 44.220238095238095, 6: 43.02721088435374, 64: 41.49609375, 60: 41.983333333333334, 14: 43.45378151260504, 63: 43.38239538239538, 28: 44.032051282051285, 20: 43.165151515151514, 61: 42.3103825136612, 45: 45.17671957671958, 8: 41.20663265306123, 32: 44.86764705882353, 4: 37.776041666666664, 78: 41.65384615384615, 22: 43.76781326781327, 18: 45.030651340996165, 47: 42.68821603927987, 55: 42.502479338842974, 43: 41.25678294573643, 48: 42.68353174603175, 36: 44.04124579124579, 5: 41.458536585365856, 42: 43.07142857142857, 69: 39.789855072463766, 40: 42.67983870967742, 15: 44.4990990990991, 31: 43.78255675029869, 33: 44.77818181818182, 9: 43.47712418300654, 7: 40.48396501457726, 44: 43.79028925619835, 65: 41.935042735042735, 58: 41.41594827586207, 29: 45.53187042842215, 53: 43.10094339622641, 56: 41.95684523809524, 35: 43.785185185185185, 66: 40.47435897435897, 39: 42.96296296296296, 25: 45.72727272727273, 13: 42.77991452991453, 17: 43.15047879616963, 52: 41.969551282051285, 68: 40.0735294117647, 86: 39.383720930232556, 57: 41.545923632610936, 67: 43.31044776119403, 72: 38.729166666666664, 50: 42.26111111111111, 49: 41.75947521865889, 54: 42.05324074074074, 83: 40.71084337349398, 85: 41.12352941176471, 71: 38.25352112676056, 70: 40.819047619047616, 62: 40.770967741935486, 74: 38.678378378378376, 73: 39.417808219178085, 51: 43.083333333333336, 98: 32.83673469387755, 81: 40.48148148148148, 77: 39.2430426716141, 76: 41.037593984962406, 96: 42.90625, 80: 38.791666666666664, 91: 37.48351648351648, 84: 37.773809523809526, 82: 37.98780487804878, 93: 34.12903225806452, 102: 40.0, 79: 45.734177215189874, 89: 42.51685393258427, 100: 39.46}\n",
      "2.723449500453592\n",
      "0\n",
      "0\n",
      "0\n",
      "0\n",
      "0\n",
      "0\n",
      "0\n",
      "0\n",
      "0\n",
      "0\n",
      "0\n",
      "0\n",
      "0\n",
      "0\n",
      "0\n",
      "0\n",
      "0\n",
      "0\n",
      "0\n",
      "0\n",
      "0\n",
      "0\n",
      "0\n",
      "0\n",
      "0\n",
      "0\n",
      "0\n",
      "0\n",
      "0\n",
      "0\n",
      "0\n",
      "0\n",
      "0\n",
      "0\n",
      "0\n",
      "0\n",
      "0\n",
      "0\n",
      "0\n",
      "0\n",
      "0\n",
      "0\n",
      "0\n",
      "0\n",
      "0\n",
      "0\n",
      "0\n",
      "0\n",
      "0\n",
      "0\n",
      "0\n",
      "0\n",
      "0.3014681318237045\n"
     ]
    },
    {
     "data": {
      "image/png": "[encoded data removed]",
      "text/plain": [
       "<Figure size 288x288 with 1 Axes>"
      ]
     },
     "metadata": {
      "tags": []
     },
     "output_type": "display_data"
    }
   ],
   "source": [
    "G_AA.remove_edges_from([i[0] for i in Existing['AA'][:30000]])\n",
    "print(nx.average_degree_connectivity(G_AA))\n",
    "for C in nx.connected_component_subgraphs(G_AA):\n",
    "    print(nx.average_shortest_path_length(C))\n",
    "ya=[len(c) for c in nx.connected_component_subgraphs(G_AA)]\n",
    "plt.hist(ya)\n",
    "print(nx.average_clustering(G_AA))"
   ]
  },
  {
   "cell_type": "code",
   "execution_count": 118,
   "metadata": {
    "colab": {
     "base_uri": "https://localhost:8080/",
     "height": 595
    },
    "colab_type": "code",
    "id": "7cemifrXgBAX",
    "outputId": "167b8233-b558-4288-fc7d-93a9b8172425"
   },
   "outputs": [
    {
     "name": "stdout",
     "output_type": "stream",
     "text": [
      "{30: 35.397777777777776, 49: 38.626122448979594, 37: 36.11142721669037, 36: 37.14985380116959, 47: 36.65552178318136, 38: 37.60785159620362, 48: 37.69070512820513, 29: 36.894327030033374, 2: 32.828947368421055, 12: 35.06565656565657, 16: 34.678779069767444, 34: 36.27100840336134, 33: 35.53907496012759, 3: 32.28703703703704, 44: 38.39755244755245, 23: 33.97953964194373, 11: 36.756198347107436, 40: 37.81440677966102, 41: 37.50278745644599, 10: 34.958333333333336, 15: 32.306306306306304, 22: 34.07670454545455, 6: 35.9078947368421, 45: 37.578989898989896, 14: 34.995073891625616, 25: 35.73125, 56: 33.825892857142854, 24: 36.75, 28: 34.798809523809524, 20: 33.258, 39: 37.41102181400689, 8: 35.19565217391305, 4: 32.361111111111114, 1: 30.257142857142856, 52: 37.23601398601399, 18: 35.95039682539682, 43: 37.71458773784355, 50: 36.53666666666667, 21: 33.44155844155844, 5: 33.582352941176474, 53: 36.044474393531, 19: 35.154970760233915, 42: 38.97907647907648, 32: 34.24172794117647, 31: 35.6099706744868, 57: 34.526315789473685, 9: 34.46296296296296, 35: 36.47843137254902, 66: 35.39393939393939, 51: 37.5873440285205, 13: 33.58560794044665, 17: 34.688235294117646, 7: 34.14671814671814, 46: 37.375397667020145, 27: 34.908496732026144, 0: 0, 54: 35.79124579124579, 26: 35.07802197802198, 55: 35.14805194805195, 61: 29.9672131147541, 59: 34.663438256658594, 67: 31.70149253731343, 58: 30.96551724137931, 60: 37.916666666666664}\n",
      "2.8005574189350186\n",
      "0\n",
      "0\n",
      "0\n",
      "0\n",
      "0\n",
      "0\n",
      "0\n",
      "0\n",
      "0\n",
      "0\n",
      "0\n",
      "0\n",
      "0\n",
      "0\n",
      "0\n",
      "0.27037108651451036\n"
     ]
    },
    {
     "data": {
      "image/png": "[encoded data removed]",
      "text/plain": [
       "<Figure size 288x288 with 1 Axes>"
      ]
     },
     "metadata": {
      "tags": []
     },
     "output_type": "display_data"
    }
   ],
   "source": [
    "G_PA.remove_edges_from([i[0] for i in Existing['PA'][:30000]])\n",
    "print(nx.average_degree_connectivity(G_PA))\n",
    "for C in nx.connected_component_subgraphs(G_PA):\n",
    "    print(nx.average_shortest_path_length(C))\n",
    "yp=[len(c) for c in nx.connected_component_subgraphs(G_PA)]\n",
    "plt.hist(yp)\n",
    "print(nx.average_clustering(G_PA))"
   ]
  },
  {
   "cell_type": "code",
   "execution_count": 119,
   "metadata": {
    "colab": {
     "base_uri": "https://localhost:8080/",
     "height": 1000
    },
    "colab_type": "code",
    "id": "R6j1D29kgBLf",
    "outputId": "d4873216-8256-42cf-cd08-33401f40f9f6"
   },
   "outputs": [
    {
     "name": "stdout",
     "output_type": "stream",
     "text": [
      "{18: 45.84782608695652, 77: 45.13636363636363, 37: 46.472472472472475, 15: 45.26875, 38: 44.63844393592677, 50: 45.71304347826087, 19: 45.99122807017544, 54: 46.37222222222222, 27: 45.53356481481482, 40: 44.9475, 2: 25.22222222222222, 12: 44.85795454545455, 16: 43.829787234042556, 36: 46.476190476190474, 24: 44.640277777777776, 11: 44.76069518716577, 52: 45.298878205128204, 23: 46.67577639751553, 35: 45.95274725274725, 59: 43.89642184557439, 10: 42.06666666666667, 0: 0, 6: 40.79807692307692, 65: 43.32727272727273, 3: 30.380116959064328, 14: 41.611111111111114, 53: 44.22641509433962, 20: 45.803225806451614, 51: 46.640866873065015, 22: 44.38494318181818, 8: 40.3448275862069, 1: 33.888888888888886, 89: 47.53370786516854, 21: 44.923809523809524, 49: 43.69944341372913, 9: 42.675925925925924, 46: 46.9495652173913, 33: 45.76689976689977, 62: 45.272401433691755, 48: 45.684895833333336, 39: 46.8905325443787, 42: 45.34479717813051, 5: 40.40975609756097, 45: 45.01798941798942, 61: 42.559718969555036, 26: 45.39447731755424, 4: 34.009433962264154, 47: 45.06595744680851, 69: 42.51207729468599, 56: 42.80681818181818, 68: 40.52614379084967, 29: 45.81576354679803, 32: 47.3578125, 63: 44.64224664224664, 55: 44.49886363636364, 64: 45.53551136363637, 17: 46.16499282639885, 30: 46.05769230769231, 25: 45.584, 75: 42.91555555555556, 57: 45.680082559339525, 7: 38.848214285714285, 60: 43.672222222222224, 34: 45.18658088235294, 13: 44.95069033530572, 72: 44.692708333333336, 43: 44.565891472868216, 66: 43.425619834710744, 31: 46.7008797653959, 41: 48.02845528455285, 28: 44.54017857142857, 84: 41.1031746031746, 73: 41.201369863013696, 58: 45.12068965517241, 44: 46.23909090909091, 79: 41.67932489451477, 67: 41.6588486140725, 88: 46.64772727272727, 74: 42.29054054054054, 82: 41.66056910569106, 78: 37.83846153846154, 76: 45.6, 71: 46.136150234741784, 111: 27.675675675675677, 83: 41.734939759036145, 70: 43.088095238095235, 86: 36.58139534883721, 90: 39.66111111111111, 100: 36.25, 91: 43.87362637362637, 102: 39.8921568627451, 99: 43.08080808080808, 80: 40.4, 85: 41.86666666666667, 98: 41.69387755102041, 92: 46.06521739130435}\n",
      "2.7617373731340313\n",
      "0\n",
      "0\n",
      "0\n",
      "1.0\n",
      "0\n",
      "0\n",
      "0\n",
      "0\n",
      "0\n",
      "0\n",
      "0\n",
      "0\n",
      "0\n",
      "0\n",
      "0\n",
      "0\n",
      "0\n",
      "0\n",
      "0\n",
      "0\n",
      "0\n",
      "1.0\n",
      "0\n",
      "0\n",
      "0\n",
      "0\n",
      "0\n",
      "0\n",
      "0\n",
      "0\n",
      "0\n",
      "0\n",
      "0\n",
      "0\n",
      "0\n",
      "0\n",
      "0\n",
      "0\n",
      "0\n",
      "0\n",
      "0\n",
      "0\n",
      "0\n",
      "0\n",
      "0\n",
      "0\n",
      "0\n",
      "0\n",
      "0\n",
      "0\n",
      "0\n",
      "0\n",
      "0.2283178953326126\n"
     ]
    },
    {
     "data": {
      "image/png": "[encoded data removed]",
      "text/plain": [
       "<Figure size 288x288 with 1 Axes>"
      ]
     },
     "metadata": {
      "tags": []
     },
     "output_type": "display_data"
    }
   ],
   "source": [
    "G_RA.remove_edges_from([i[0] for i in Existing['RA'][:30000]])\n",
    "print(nx.average_degree_connectivity(G_RA))\n",
    "for C in nx.connected_component_subgraphs(G_RA):\n",
    "    print(nx.average_shortest_path_length(C))\n",
    "yr=[len(c) for c in nx.connected_component_subgraphs(G_RA)]\n",
    "plt.hist(yr)\n",
    "print(nx.average_clustering(G_RA))"
   ]
  },
  {
   "cell_type": "code",
   "execution_count": 120,
   "metadata": {
    "colab": {
     "base_uri": "https://localhost:8080/",
     "height": 901
    },
    "colab_type": "code",
    "id": "dk8arffmww5K",
    "outputId": "7491df19-cae3-49be-f285-a0ecd770ac37"
   },
   "outputs": [
    {
     "data": {
      "image/png": "[encoded data removed]",
      "text/plain": [
       "<Figure size 288x288 with 1 Axes>"
      ]
     },
     "metadata": {
      "tags": []
     },
     "output_type": "display_data"
    },
    {
     "data": {
      "image/png": "[encoded data removed]",
      "text/plain": [
       "<Figure size 288x288 with 1 Axes>"
      ]
     },
     "metadata": {
      "tags": []
     },
     "output_type": "display_data"
    },
    {
     "name": "stdout",
     "output_type": "stream",
     "text": [
      "Nodes in giant cluster =  2007\n"
     ]
    },
    {
     "ename": "NetworkXError",
     "evalue": "ignored",
     "output_type": "error",
     "traceback": [
      "\u001b[0;31m---------------------------------------------------------------------------\u001b[0m",
      "\u001b[0;31mNetworkXError\u001b[0m                             Traceback (most recent call last)",
      "\u001b[0;32m<ipython-input-120-1703496210fa>\u001b[0m in \u001b[0;36m<module>\u001b[0;34m()\u001b[0m\n\u001b[1;32m      1\u001b[0m \u001b[0mDegree_Distribution\u001b[0m\u001b[0;34m(\u001b[0m\u001b[0mG_CN\u001b[0m\u001b[0;34m)\u001b[0m\u001b[0;34m\u001b[0m\u001b[0;34m\u001b[0m\u001b[0m\n\u001b[1;32m      2\u001b[0m \u001b[0mplot_clustering\u001b[0m\u001b[0;34m(\u001b[0m\u001b[0mG_CN\u001b[0m\u001b[0;34m)\u001b[0m\u001b[0;34m\u001b[0m\u001b[0;34m\u001b[0m\u001b[0m\n\u001b[0;32m----> 3\u001b[0;31m \u001b[0mget_giant_cluster\u001b[0m\u001b[0;34m(\u001b[0m\u001b[0mG_CN\u001b[0m\u001b[0;34m)\u001b[0m\u001b[0;34m\u001b[0m\u001b[0;34m\u001b[0m\u001b[0m\n\u001b[0m",
      "\u001b[0;32m<ipython-input-99-b464de4fedf0>\u001b[0m in \u001b[0;36mget_giant_cluster\u001b[0;34m(GA)\u001b[0m\n\u001b[1;32m     22\u001b[0m   \u001b[0mGC\u001b[0m \u001b[0;34m=\u001b[0m \u001b[0mmax\u001b[0m\u001b[0;34m(\u001b[0m\u001b[0mnx\u001b[0m\u001b[0;34m.\u001b[0m\u001b[0mconnected_component_subgraphs\u001b[0m\u001b[0;34m(\u001b[0m\u001b[0mGA\u001b[0m\u001b[0;34m)\u001b[0m\u001b[0;34m,\u001b[0m \u001b[0mkey\u001b[0m\u001b[0;34m=\u001b[0m\u001b[0mlen\u001b[0m\u001b[0;34m)\u001b[0m\u001b[0;34m\u001b[0m\u001b[0;34m\u001b[0m\u001b[0m\n\u001b[1;32m     23\u001b[0m   \u001b[0mprint\u001b[0m\u001b[0;34m(\u001b[0m\u001b[0;34m\"Nodes in giant cluster = \"\u001b[0m \u001b[0;34m,\u001b[0m\u001b[0mGC\u001b[0m\u001b[0;34m.\u001b[0m\u001b[0mnumber_of_nodes\u001b[0m\u001b[0;34m(\u001b[0m\u001b[0;34m)\u001b[0m\u001b[0;34m)\u001b[0m\u001b[0;34m\u001b[0m\u001b[0;34m\u001b[0m\u001b[0m\n\u001b[0;32m---> 24\u001b[0;31m   \u001b[0mdiameter\u001b[0m \u001b[0;34m=\u001b[0m \u001b[0mnx\u001b[0m\u001b[0;34m.\u001b[0m\u001b[0malgorithms\u001b[0m\u001b[0;34m.\u001b[0m\u001b[0mdistance_measures\u001b[0m\u001b[0;34m.\u001b[0m\u001b[0mdiameter\u001b[0m\u001b[0;34m(\u001b[0m\u001b[0mGA\u001b[0m\u001b[0;34m)\u001b[0m\u001b[0;34m\u001b[0m\u001b[0;34m\u001b[0m\u001b[0m\n\u001b[0m\u001b[1;32m     25\u001b[0m   \u001b[0mprint\u001b[0m\u001b[0;34m(\u001b[0m\u001b[0;34m\"diameter = \"\u001b[0m \u001b[0;34m,\u001b[0m \u001b[0mdiameter\u001b[0m\u001b[0;34m)\u001b[0m\u001b[0;34m\u001b[0m\u001b[0;34m\u001b[0m\u001b[0m\n",
      "\u001b[0;32m/usr/local/lib/python3.6/dist-packages/networkx/algorithms/distance_measures.py\u001b[0m in \u001b[0;36mdiameter\u001b[0;34m(G, e, usebounds)\u001b[0m\n\u001b[1;32m    274\u001b[0m         \u001b[0;32mreturn\u001b[0m \u001b[0mextrema_bounding\u001b[0m\u001b[0;34m(\u001b[0m\u001b[0mG\u001b[0m\u001b[0;34m,\u001b[0m \u001b[0mcompute\u001b[0m\u001b[0;34m=\u001b[0m\u001b[0;34m\"diameter\"\u001b[0m\u001b[0;34m)\u001b[0m\u001b[0;34m\u001b[0m\u001b[0;34m\u001b[0m\u001b[0m\n\u001b[1;32m    275\u001b[0m     \u001b[0;32mif\u001b[0m \u001b[0me\u001b[0m \u001b[0;32mis\u001b[0m \u001b[0;32mNone\u001b[0m\u001b[0;34m:\u001b[0m\u001b[0;34m\u001b[0m\u001b[0;34m\u001b[0m\u001b[0m\n\u001b[0;32m--> 276\u001b[0;31m         \u001b[0me\u001b[0m \u001b[0;34m=\u001b[0m \u001b[0meccentricity\u001b[0m\u001b[0;34m(\u001b[0m\u001b[0mG\u001b[0m\u001b[0;34m)\u001b[0m\u001b[0;34m\u001b[0m\u001b[0;34m\u001b[0m\u001b[0m\n\u001b[0m\u001b[1;32m    277\u001b[0m     \u001b[0;32mreturn\u001b[0m \u001b[0mmax\u001b[0m\u001b[0;34m(\u001b[0m\u001b[0me\u001b[0m\u001b[0;34m.\u001b[0m\u001b[0mvalues\u001b[0m\u001b[0;34m(\u001b[0m\u001b[0;34m)\u001b[0m\u001b[0;34m)\u001b[0m\u001b[0;34m\u001b[0m\u001b[0;34m\u001b[0m\u001b[0m\n\u001b[1;32m    278\u001b[0m \u001b[0;34m\u001b[0m\u001b[0m\n",
      "\u001b[0;32m/usr/local/lib/python3.6/dist-packages/networkx/algorithms/distance_measures.py\u001b[0m in \u001b[0;36meccentricity\u001b[0;34m(G, v, sp)\u001b[0m\n\u001b[1;32m    239\u001b[0m                 msg = ('Found infinite path length because the graph is not'\n\u001b[1;32m    240\u001b[0m                        ' connected')\n\u001b[0;32m--> 241\u001b[0;31m             \u001b[0;32mraise\u001b[0m \u001b[0mnetworkx\u001b[0m\u001b[0;34m.\u001b[0m\u001b[0mNetworkXError\u001b[0m\u001b[0;34m(\u001b[0m\u001b[0mmsg\u001b[0m\u001b[0;34m)\u001b[0m\u001b[0;34m\u001b[0m\u001b[0;34m\u001b[0m\u001b[0m\n\u001b[0m\u001b[1;32m    242\u001b[0m \u001b[0;34m\u001b[0m\u001b[0m\n\u001b[1;32m    243\u001b[0m         \u001b[0me\u001b[0m\u001b[0;34m[\u001b[0m\u001b[0mn\u001b[0m\u001b[0;34m]\u001b[0m \u001b[0;34m=\u001b[0m \u001b[0mmax\u001b[0m\u001b[0;34m(\u001b[0m\u001b[0mlength\u001b[0m\u001b[0;34m.\u001b[0m\u001b[0mvalues\u001b[0m\u001b[0;34m(\u001b[0m\u001b[0;34m)\u001b[0m\u001b[0;34m)\u001b[0m\u001b[0;34m\u001b[0m\u001b[0;34m\u001b[0m\u001b[0m\n",
      "\u001b[0;31mNetworkXError\u001b[0m: Found infinite path length because the graph is not connected"
     ]
    }
   ],
   "source": [
    "Degree_Distribution(G_CN)\n",
    "plot_clustering(G_CN)\n",
    "get_giant_cluster(G_CN)"
   ]
  },
  {
   "cell_type": "code",
   "execution_count": 126,
   "metadata": {
    "colab": {
     "base_uri": "https://localhost:8080/",
     "height": 901
    },
    "colab_type": "code",
    "id": "22A90D7Hw1dH",
    "outputId": "a6b0716b-5aa0-4c3c-c47f-0e1a6884b314"
   },
   "outputs": [
    {
     "data": {
      "image/png": "[encoded data removed]",
      "text/plain": [
       "<Figure size 288x288 with 1 Axes>"
      ]
     },
     "metadata": {
      "tags": []
     },
     "output_type": "display_data"
    },
    {
     "data": {
      "image/png": "[encoded data removed]",
      "text/plain": [
       "<Figure size 288x288 with 1 Axes>"
      ]
     },
     "metadata": {
      "tags": []
     },
     "output_type": "display_data"
    },
    {
     "name": "stdout",
     "output_type": "stream",
     "text": [
      "Nodes in giant cluster =  2037\n"
     ]
    },
    {
     "ename": "NetworkXError",
     "evalue": "ignored",
     "output_type": "error",
     "traceback": [
      "\u001b[0;31m---------------------------------------------------------------------------\u001b[0m",
      "\u001b[0;31mNetworkXError\u001b[0m                             Traceback (most recent call last)",
      "\u001b[0;32m<ipython-input-126-0af1b7b405ff>\u001b[0m in \u001b[0;36m<module>\u001b[0;34m()\u001b[0m\n\u001b[1;32m      1\u001b[0m \u001b[0mDegree_Distribution\u001b[0m\u001b[0;34m(\u001b[0m\u001b[0mG_JC\u001b[0m\u001b[0;34m)\u001b[0m\u001b[0;34m\u001b[0m\u001b[0;34m\u001b[0m\u001b[0m\n\u001b[1;32m      2\u001b[0m \u001b[0mplot_clustering\u001b[0m\u001b[0;34m(\u001b[0m\u001b[0mG_JC\u001b[0m\u001b[0;34m)\u001b[0m\u001b[0;34m\u001b[0m\u001b[0;34m\u001b[0m\u001b[0m\n\u001b[0;32m----> 3\u001b[0;31m \u001b[0mget_giant_cluster\u001b[0m\u001b[0;34m(\u001b[0m\u001b[0mG_JC\u001b[0m\u001b[0;34m)\u001b[0m\u001b[0;34m\u001b[0m\u001b[0;34m\u001b[0m\u001b[0m\n\u001b[0m",
      "\u001b[0;32m<ipython-input-99-b464de4fedf0>\u001b[0m in \u001b[0;36mget_giant_cluster\u001b[0;34m(GA)\u001b[0m\n\u001b[1;32m     22\u001b[0m   \u001b[0mGC\u001b[0m \u001b[0;34m=\u001b[0m \u001b[0mmax\u001b[0m\u001b[0;34m(\u001b[0m\u001b[0mnx\u001b[0m\u001b[0;34m.\u001b[0m\u001b[0mconnected_component_subgraphs\u001b[0m\u001b[0;34m(\u001b[0m\u001b[0mGA\u001b[0m\u001b[0;34m)\u001b[0m\u001b[0;34m,\u001b[0m \u001b[0mkey\u001b[0m\u001b[0;34m=\u001b[0m\u001b[0mlen\u001b[0m\u001b[0;34m)\u001b[0m\u001b[0;34m\u001b[0m\u001b[0;34m\u001b[0m\u001b[0m\n\u001b[1;32m     23\u001b[0m   \u001b[0mprint\u001b[0m\u001b[0;34m(\u001b[0m\u001b[0;34m\"Nodes in giant cluster = \"\u001b[0m \u001b[0;34m,\u001b[0m\u001b[0mGC\u001b[0m\u001b[0;34m.\u001b[0m\u001b[0mnumber_of_nodes\u001b[0m\u001b[0;34m(\u001b[0m\u001b[0;34m)\u001b[0m\u001b[0;34m)\u001b[0m\u001b[0;34m\u001b[0m\u001b[0;34m\u001b[0m\u001b[0m\n\u001b[0;32m---> 24\u001b[0;31m   \u001b[0mdiameter\u001b[0m \u001b[0;34m=\u001b[0m \u001b[0mnx\u001b[0m\u001b[0;34m.\u001b[0m\u001b[0malgorithms\u001b[0m\u001b[0;34m.\u001b[0m\u001b[0mdistance_measures\u001b[0m\u001b[0;34m.\u001b[0m\u001b[0mdiameter\u001b[0m\u001b[0;34m(\u001b[0m\u001b[0mGA\u001b[0m\u001b[0;34m)\u001b[0m\u001b[0;34m\u001b[0m\u001b[0;34m\u001b[0m\u001b[0m\n\u001b[0m\u001b[1;32m     25\u001b[0m   \u001b[0mprint\u001b[0m\u001b[0;34m(\u001b[0m\u001b[0;34m\"diameter = \"\u001b[0m \u001b[0;34m,\u001b[0m \u001b[0mdiameter\u001b[0m\u001b[0;34m)\u001b[0m\u001b[0;34m\u001b[0m\u001b[0;34m\u001b[0m\u001b[0m\n",
      "\u001b[0;32m/usr/local/lib/python3.6/dist-packages/networkx/algorithms/distance_measures.py\u001b[0m in \u001b[0;36mdiameter\u001b[0;34m(G, e, usebounds)\u001b[0m\n\u001b[1;32m    274\u001b[0m         \u001b[0;32mreturn\u001b[0m \u001b[0mextrema_bounding\u001b[0m\u001b[0;34m(\u001b[0m\u001b[0mG\u001b[0m\u001b[0;34m,\u001b[0m \u001b[0mcompute\u001b[0m\u001b[0;34m=\u001b[0m\u001b[0;34m\"diameter\"\u001b[0m\u001b[0;34m)\u001b[0m\u001b[0;34m\u001b[0m\u001b[0;34m\u001b[0m\u001b[0m\n\u001b[1;32m    275\u001b[0m     \u001b[0;32mif\u001b[0m \u001b[0me\u001b[0m \u001b[0;32mis\u001b[0m \u001b[0;32mNone\u001b[0m\u001b[0;34m:\u001b[0m\u001b[0;34m\u001b[0m\u001b[0;34m\u001b[0m\u001b[0m\n\u001b[0;32m--> 276\u001b[0;31m         \u001b[0me\u001b[0m \u001b[0;34m=\u001b[0m \u001b[0meccentricity\u001b[0m\u001b[0;34m(\u001b[0m\u001b[0mG\u001b[0m\u001b[0;34m)\u001b[0m\u001b[0;34m\u001b[0m\u001b[0;34m\u001b[0m\u001b[0m\n\u001b[0m\u001b[1;32m    277\u001b[0m     \u001b[0;32mreturn\u001b[0m \u001b[0mmax\u001b[0m\u001b[0;34m(\u001b[0m\u001b[0me\u001b[0m\u001b[0;34m.\u001b[0m\u001b[0mvalues\u001b[0m\u001b[0;34m(\u001b[0m\u001b[0;34m)\u001b[0m\u001b[0;34m)\u001b[0m\u001b[0;34m\u001b[0m\u001b[0;34m\u001b[0m\u001b[0m\n\u001b[1;32m    278\u001b[0m \u001b[0;34m\u001b[0m\u001b[0m\n",
      "\u001b[0;32m/usr/local/lib/python3.6/dist-packages/networkx/algorithms/distance_measures.py\u001b[0m in \u001b[0;36meccentricity\u001b[0;34m(G, v, sp)\u001b[0m\n\u001b[1;32m    239\u001b[0m                 msg = ('Found infinite path length because the graph is not'\n\u001b[1;32m    240\u001b[0m                        ' connected')\n\u001b[0;32m--> 241\u001b[0;31m             \u001b[0;32mraise\u001b[0m \u001b[0mnetworkx\u001b[0m\u001b[0;34m.\u001b[0m\u001b[0mNetworkXError\u001b[0m\u001b[0;34m(\u001b[0m\u001b[0mmsg\u001b[0m\u001b[0;34m)\u001b[0m\u001b[0;34m\u001b[0m\u001b[0;34m\u001b[0m\u001b[0m\n\u001b[0m\u001b[1;32m    242\u001b[0m \u001b[0;34m\u001b[0m\u001b[0m\n\u001b[1;32m    243\u001b[0m         \u001b[0me\u001b[0m\u001b[0;34m[\u001b[0m\u001b[0mn\u001b[0m\u001b[0;34m]\u001b[0m \u001b[0;34m=\u001b[0m \u001b[0mmax\u001b[0m\u001b[0;34m(\u001b[0m\u001b[0mlength\u001b[0m\u001b[0;34m.\u001b[0m\u001b[0mvalues\u001b[0m\u001b[0;34m(\u001b[0m\u001b[0;34m)\u001b[0m\u001b[0;34m)\u001b[0m\u001b[0;34m\u001b[0m\u001b[0;34m\u001b[0m\u001b[0m\n",
      "\u001b[0;31mNetworkXError\u001b[0m: Found infinite path length because the graph is not connected"
     ]
    }
   ],
   "source": [
    "Degree_Distribution(G_JC)\n",
    "plot_clustering(G_JC)\n",
    "get_giant_cluster(G_JC)"
   ]
  },
  {
   "cell_type": "code",
   "execution_count": 122,
   "metadata": {
    "colab": {
     "base_uri": "https://localhost:8080/",
     "height": 901
    },
    "colab_type": "code",
    "id": "2INbU9UJw1gY",
    "outputId": "bede2589-51ca-46fa-b82c-061c147d4922"
   },
   "outputs": [
    {
     "data": {
      "image/png": "[encoded data removed]",
      "text/plain": [
       "<Figure size 288x288 with 1 Axes>"
      ]
     },
     "metadata": {
      "tags": []
     },
     "output_type": "display_data"
    },
    {
     "data": {
      "image/png": "[encoded data removed]",
      "text/plain": [
       "<Figure size 288x288 with 1 Axes>"
      ]
     },
     "metadata": {
      "tags": []
     },
     "output_type": "display_data"
    },
    {
     "name": "stdout",
     "output_type": "stream",
     "text": [
      "Nodes in giant cluster =  2008\n"
     ]
    },
    {
     "ename": "NetworkXError",
     "evalue": "ignored",
     "output_type": "error",
     "traceback": [
      "\u001b[0;31m---------------------------------------------------------------------------\u001b[0m",
      "\u001b[0;31mNetworkXError\u001b[0m                             Traceback (most recent call last)",
      "\u001b[0;32m<ipython-input-122-afc22166f473>\u001b[0m in \u001b[0;36m<module>\u001b[0;34m()\u001b[0m\n\u001b[1;32m      1\u001b[0m \u001b[0mDegree_Distribution\u001b[0m\u001b[0;34m(\u001b[0m\u001b[0mG_AA\u001b[0m\u001b[0;34m)\u001b[0m\u001b[0;34m\u001b[0m\u001b[0;34m\u001b[0m\u001b[0m\n\u001b[1;32m      2\u001b[0m \u001b[0mplot_clustering\u001b[0m\u001b[0;34m(\u001b[0m\u001b[0mG_AA\u001b[0m\u001b[0;34m)\u001b[0m\u001b[0;34m\u001b[0m\u001b[0;34m\u001b[0m\u001b[0m\n\u001b[0;32m----> 3\u001b[0;31m \u001b[0mget_giant_cluster\u001b[0m\u001b[0;34m(\u001b[0m\u001b[0mG_AA\u001b[0m\u001b[0;34m)\u001b[0m\u001b[0;34m\u001b[0m\u001b[0;34m\u001b[0m\u001b[0m\n\u001b[0m",
      "\u001b[0;32m<ipython-input-99-b464de4fedf0>\u001b[0m in \u001b[0;36mget_giant_cluster\u001b[0;34m(GA)\u001b[0m\n\u001b[1;32m     22\u001b[0m   \u001b[0mGC\u001b[0m \u001b[0;34m=\u001b[0m \u001b[0mmax\u001b[0m\u001b[0;34m(\u001b[0m\u001b[0mnx\u001b[0m\u001b[0;34m.\u001b[0m\u001b[0mconnected_component_subgraphs\u001b[0m\u001b[0;34m(\u001b[0m\u001b[0mGA\u001b[0m\u001b[0;34m)\u001b[0m\u001b[0;34m,\u001b[0m \u001b[0mkey\u001b[0m\u001b[0;34m=\u001b[0m\u001b[0mlen\u001b[0m\u001b[0;34m)\u001b[0m\u001b[0;34m\u001b[0m\u001b[0;34m\u001b[0m\u001b[0m\n\u001b[1;32m     23\u001b[0m   \u001b[0mprint\u001b[0m\u001b[0;34m(\u001b[0m\u001b[0;34m\"Nodes in giant cluster = \"\u001b[0m \u001b[0;34m,\u001b[0m\u001b[0mGC\u001b[0m\u001b[0;34m.\u001b[0m\u001b[0mnumber_of_nodes\u001b[0m\u001b[0;34m(\u001b[0m\u001b[0;34m)\u001b[0m\u001b[0;34m)\u001b[0m\u001b[0;34m\u001b[0m\u001b[0;34m\u001b[0m\u001b[0m\n\u001b[0;32m---> 24\u001b[0;31m   \u001b[0mdiameter\u001b[0m \u001b[0;34m=\u001b[0m \u001b[0mnx\u001b[0m\u001b[0;34m.\u001b[0m\u001b[0malgorithms\u001b[0m\u001b[0;34m.\u001b[0m\u001b[0mdistance_measures\u001b[0m\u001b[0;34m.\u001b[0m\u001b[0mdiameter\u001b[0m\u001b[0;34m(\u001b[0m\u001b[0mGA\u001b[0m\u001b[0;34m)\u001b[0m\u001b[0;34m\u001b[0m\u001b[0;34m\u001b[0m\u001b[0m\n\u001b[0m\u001b[1;32m     25\u001b[0m   \u001b[0mprint\u001b[0m\u001b[0;34m(\u001b[0m\u001b[0;34m\"diameter = \"\u001b[0m \u001b[0;34m,\u001b[0m \u001b[0mdiameter\u001b[0m\u001b[0;34m)\u001b[0m\u001b[0;34m\u001b[0m\u001b[0;34m\u001b[0m\u001b[0m\n",
      "\u001b[0;32m/usr/local/lib/python3.6/dist-packages/networkx/algorithms/distance_measures.py\u001b[0m in \u001b[0;36mdiameter\u001b[0;34m(G, e, usebounds)\u001b[0m\n\u001b[1;32m    274\u001b[0m         \u001b[0;32mreturn\u001b[0m \u001b[0mextrema_bounding\u001b[0m\u001b[0;34m(\u001b[0m\u001b[0mG\u001b[0m\u001b[0;34m,\u001b[0m \u001b[0mcompute\u001b[0m\u001b[0;34m=\u001b[0m\u001b[0;34m\"diameter\"\u001b[0m\u001b[0;34m)\u001b[0m\u001b[0;34m\u001b[0m\u001b[0;34m\u001b[0m\u001b[0m\n\u001b[1;32m    275\u001b[0m     \u001b[0;32mif\u001b[0m \u001b[0me\u001b[0m \u001b[0;32mis\u001b[0m \u001b[0;32mNone\u001b[0m\u001b[0;34m:\u001b[0m\u001b[0;34m\u001b[0m\u001b[0;34m\u001b[0m\u001b[0m\n\u001b[0;32m--> 276\u001b[0;31m         \u001b[0me\u001b[0m \u001b[0;34m=\u001b[0m \u001b[0meccentricity\u001b[0m\u001b[0;34m(\u001b[0m\u001b[0mG\u001b[0m\u001b[0;34m)\u001b[0m\u001b[0;34m\u001b[0m\u001b[0;34m\u001b[0m\u001b[0m\n\u001b[0m\u001b[1;32m    277\u001b[0m     \u001b[0;32mreturn\u001b[0m \u001b[0mmax\u001b[0m\u001b[0;34m(\u001b[0m\u001b[0me\u001b[0m\u001b[0;34m.\u001b[0m\u001b[0mvalues\u001b[0m\u001b[0;34m(\u001b[0m\u001b[0;34m)\u001b[0m\u001b[0;34m)\u001b[0m\u001b[0;34m\u001b[0m\u001b[0;34m\u001b[0m\u001b[0m\n\u001b[1;32m    278\u001b[0m \u001b[0;34m\u001b[0m\u001b[0m\n",
      "\u001b[0;32m/usr/local/lib/python3.6/dist-packages/networkx/algorithms/distance_measures.py\u001b[0m in \u001b[0;36meccentricity\u001b[0;34m(G, v, sp)\u001b[0m\n\u001b[1;32m    239\u001b[0m                 msg = ('Found infinite path length because the graph is not'\n\u001b[1;32m    240\u001b[0m                        ' connected')\n\u001b[0;32m--> 241\u001b[0;31m             \u001b[0;32mraise\u001b[0m \u001b[0mnetworkx\u001b[0m\u001b[0;34m.\u001b[0m\u001b[0mNetworkXError\u001b[0m\u001b[0;34m(\u001b[0m\u001b[0mmsg\u001b[0m\u001b[0;34m)\u001b[0m\u001b[0;34m\u001b[0m\u001b[0;34m\u001b[0m\u001b[0m\n\u001b[0m\u001b[1;32m    242\u001b[0m \u001b[0;34m\u001b[0m\u001b[0m\n\u001b[1;32m    243\u001b[0m         \u001b[0me\u001b[0m\u001b[0;34m[\u001b[0m\u001b[0mn\u001b[0m\u001b[0;34m]\u001b[0m \u001b[0;34m=\u001b[0m \u001b[0mmax\u001b[0m\u001b[0;34m(\u001b[0m\u001b[0mlength\u001b[0m\u001b[0;34m.\u001b[0m\u001b[0mvalues\u001b[0m\u001b[0;34m(\u001b[0m\u001b[0;34m)\u001b[0m\u001b[0;34m)\u001b[0m\u001b[0;34m\u001b[0m\u001b[0;34m\u001b[0m\u001b[0m\n",
      "\u001b[0;31mNetworkXError\u001b[0m: Found infinite path length because the graph is not connected"
     ]
    }
   ],
   "source": [
    "Degree_Distribution(G_AA)\n",
    "plot_clustering(G_AA)\n",
    "get_giant_cluster(G_AA)"
   ]
  },
  {
   "cell_type": "code",
   "execution_count": 123,
   "metadata": {
    "colab": {
     "base_uri": "https://localhost:8080/",
     "height": 901
    },
    "colab_type": "code",
    "id": "8q1KhdVMw1kL",
    "outputId": "dc415da3-fdef-4a17-fe54-97fd94aaafb3"
   },
   "outputs": [
    {
     "data": {
      "image/png": "[encoded data removed]",
      "text/plain": [
       "<Figure size 288x288 with 1 Axes>"
      ]
     },
     "metadata": {
      "tags": []
     },
     "output_type": "display_data"
    },
    {
     "data": {
      "image/png": "[encoded data removed]",
      "text/plain": [
       "<Figure size 288x288 with 1 Axes>"
      ]
     },
     "metadata": {
      "tags": []
     },
     "output_type": "display_data"
    },
    {
     "name": "stdout",
     "output_type": "stream",
     "text": [
      "Nodes in giant cluster =  2045\n"
     ]
    },
    {
     "ename": "NetworkXError",
     "evalue": "ignored",
     "output_type": "error",
     "traceback": [
      "\u001b[0;31m---------------------------------------------------------------------------\u001b[0m",
      "\u001b[0;31mNetworkXError\u001b[0m                             Traceback (most recent call last)",
      "\u001b[0;32m<ipython-input-123-e995ffd68559>\u001b[0m in \u001b[0;36m<module>\u001b[0;34m()\u001b[0m\n\u001b[1;32m      1\u001b[0m \u001b[0mDegree_Distribution\u001b[0m\u001b[0;34m(\u001b[0m\u001b[0mG_PA\u001b[0m\u001b[0;34m)\u001b[0m\u001b[0;34m\u001b[0m\u001b[0;34m\u001b[0m\u001b[0m\n\u001b[1;32m      2\u001b[0m \u001b[0mplot_clustering\u001b[0m\u001b[0;34m(\u001b[0m\u001b[0mG_PA\u001b[0m\u001b[0;34m)\u001b[0m\u001b[0;34m\u001b[0m\u001b[0;34m\u001b[0m\u001b[0m\n\u001b[0;32m----> 3\u001b[0;31m \u001b[0mget_giant_cluster\u001b[0m\u001b[0;34m(\u001b[0m\u001b[0mG_PA\u001b[0m\u001b[0;34m)\u001b[0m\u001b[0;34m\u001b[0m\u001b[0;34m\u001b[0m\u001b[0m\n\u001b[0m",
      "\u001b[0;32m<ipython-input-99-b464de4fedf0>\u001b[0m in \u001b[0;36mget_giant_cluster\u001b[0;34m(GA)\u001b[0m\n\u001b[1;32m     22\u001b[0m   \u001b[0mGC\u001b[0m \u001b[0;34m=\u001b[0m \u001b[0mmax\u001b[0m\u001b[0;34m(\u001b[0m\u001b[0mnx\u001b[0m\u001b[0;34m.\u001b[0m\u001b[0mconnected_component_subgraphs\u001b[0m\u001b[0;34m(\u001b[0m\u001b[0mGA\u001b[0m\u001b[0;34m)\u001b[0m\u001b[0;34m,\u001b[0m \u001b[0mkey\u001b[0m\u001b[0;34m=\u001b[0m\u001b[0mlen\u001b[0m\u001b[0;34m)\u001b[0m\u001b[0;34m\u001b[0m\u001b[0;34m\u001b[0m\u001b[0m\n\u001b[1;32m     23\u001b[0m   \u001b[0mprint\u001b[0m\u001b[0;34m(\u001b[0m\u001b[0;34m\"Nodes in giant cluster = \"\u001b[0m \u001b[0;34m,\u001b[0m\u001b[0mGC\u001b[0m\u001b[0;34m.\u001b[0m\u001b[0mnumber_of_nodes\u001b[0m\u001b[0;34m(\u001b[0m\u001b[0;34m)\u001b[0m\u001b[0;34m)\u001b[0m\u001b[0;34m\u001b[0m\u001b[0;34m\u001b[0m\u001b[0m\n\u001b[0;32m---> 24\u001b[0;31m   \u001b[0mdiameter\u001b[0m \u001b[0;34m=\u001b[0m \u001b[0mnx\u001b[0m\u001b[0;34m.\u001b[0m\u001b[0malgorithms\u001b[0m\u001b[0;34m.\u001b[0m\u001b[0mdistance_measures\u001b[0m\u001b[0;34m.\u001b[0m\u001b[0mdiameter\u001b[0m\u001b[0;34m(\u001b[0m\u001b[0mGA\u001b[0m\u001b[0;34m)\u001b[0m\u001b[0;34m\u001b[0m\u001b[0;34m\u001b[0m\u001b[0m\n\u001b[0m\u001b[1;32m     25\u001b[0m   \u001b[0mprint\u001b[0m\u001b[0;34m(\u001b[0m\u001b[0;34m\"diameter = \"\u001b[0m \u001b[0;34m,\u001b[0m \u001b[0mdiameter\u001b[0m\u001b[0;34m)\u001b[0m\u001b[0;34m\u001b[0m\u001b[0;34m\u001b[0m\u001b[0m\n",
      "\u001b[0;32m/usr/local/lib/python3.6/dist-packages/networkx/algorithms/distance_measures.py\u001b[0m in \u001b[0;36mdiameter\u001b[0;34m(G, e, usebounds)\u001b[0m\n\u001b[1;32m    274\u001b[0m         \u001b[0;32mreturn\u001b[0m \u001b[0mextrema_bounding\u001b[0m\u001b[0;34m(\u001b[0m\u001b[0mG\u001b[0m\u001b[0;34m,\u001b[0m \u001b[0mcompute\u001b[0m\u001b[0;34m=\u001b[0m\u001b[0;34m\"diameter\"\u001b[0m\u001b[0;34m)\u001b[0m\u001b[0;34m\u001b[0m\u001b[0;34m\u001b[0m\u001b[0m\n\u001b[1;32m    275\u001b[0m     \u001b[0;32mif\u001b[0m \u001b[0me\u001b[0m \u001b[0;32mis\u001b[0m \u001b[0;32mNone\u001b[0m\u001b[0;34m:\u001b[0m\u001b[0;34m\u001b[0m\u001b[0;34m\u001b[0m\u001b[0m\n\u001b[0;32m--> 276\u001b[0;31m         \u001b[0me\u001b[0m \u001b[0;34m=\u001b[0m \u001b[0meccentricity\u001b[0m\u001b[0;34m(\u001b[0m\u001b[0mG\u001b[0m\u001b[0;34m)\u001b[0m\u001b[0;34m\u001b[0m\u001b[0;34m\u001b[0m\u001b[0m\n\u001b[0m\u001b[1;32m    277\u001b[0m     \u001b[0;32mreturn\u001b[0m \u001b[0mmax\u001b[0m\u001b[0;34m(\u001b[0m\u001b[0me\u001b[0m\u001b[0;34m.\u001b[0m\u001b[0mvalues\u001b[0m\u001b[0;34m(\u001b[0m\u001b[0;34m)\u001b[0m\u001b[0;34m)\u001b[0m\u001b[0;34m\u001b[0m\u001b[0;34m\u001b[0m\u001b[0m\n\u001b[1;32m    278\u001b[0m \u001b[0;34m\u001b[0m\u001b[0m\n",
      "\u001b[0;32m/usr/local/lib/python3.6/dist-packages/networkx/algorithms/distance_measures.py\u001b[0m in \u001b[0;36meccentricity\u001b[0;34m(G, v, sp)\u001b[0m\n\u001b[1;32m    239\u001b[0m                 msg = ('Found infinite path length because the graph is not'\n\u001b[1;32m    240\u001b[0m                        ' connected')\n\u001b[0;32m--> 241\u001b[0;31m             \u001b[0;32mraise\u001b[0m \u001b[0mnetworkx\u001b[0m\u001b[0;34m.\u001b[0m\u001b[0mNetworkXError\u001b[0m\u001b[0;34m(\u001b[0m\u001b[0mmsg\u001b[0m\u001b[0;34m)\u001b[0m\u001b[0;34m\u001b[0m\u001b[0;34m\u001b[0m\u001b[0m\n\u001b[0m\u001b[1;32m    242\u001b[0m \u001b[0;34m\u001b[0m\u001b[0m\n\u001b[1;32m    243\u001b[0m         \u001b[0me\u001b[0m\u001b[0;34m[\u001b[0m\u001b[0mn\u001b[0m\u001b[0;34m]\u001b[0m \u001b[0;34m=\u001b[0m \u001b[0mmax\u001b[0m\u001b[0;34m(\u001b[0m\u001b[0mlength\u001b[0m\u001b[0;34m.\u001b[0m\u001b[0mvalues\u001b[0m\u001b[0;34m(\u001b[0m\u001b[0;34m)\u001b[0m\u001b[0;34m)\u001b[0m\u001b[0;34m\u001b[0m\u001b[0;34m\u001b[0m\u001b[0m\n",
      "\u001b[0;31mNetworkXError\u001b[0m: Found infinite path length because the graph is not connected"
     ]
    }
   ],
   "source": [
    "Degree_Distribution(G_PA)\n",
    "plot_clustering(G_PA)\n",
    "get_giant_cluster(G_PA)"
   ]
  },
  {
   "cell_type": "code",
   "execution_count": 133,
   "metadata": {
    "colab": {
     "base_uri": "https://localhost:8080/",
     "height": 901
    },
    "colab_type": "code",
    "id": "rXNy06v2w1ol",
    "outputId": "3bf51884-4ae5-498a-9cba-2b7585b1cc60"
   },
   "outputs": [
    {
     "data": {
      "image/png": "[encoded data removed]",
      "text/plain": [
       "<Figure size 288x288 with 1 Axes>"
      ]
     },
     "metadata": {
      "tags": []
     },
     "output_type": "display_data"
    },
    {
     "data": {
      "image/png": "[encoded data removed]",
      "text/plain": [
       "<Figure size 288x288 with 1 Axes>"
      ]
     },
     "metadata": {
      "tags": []
     },
     "output_type": "display_data"
    },
    {
     "name": "stdout",
     "output_type": "stream",
     "text": [
      "Nodes in giant cluster =  2005\n"
     ]
    },
    {
     "ename": "NetworkXError",
     "evalue": "ignored",
     "output_type": "error",
     "traceback": [
      "\u001b[0;31m---------------------------------------------------------------------------\u001b[0m",
      "\u001b[0;31mNetworkXError\u001b[0m                             Traceback (most recent call last)",
      "\u001b[0;32m<ipython-input-133-ae11f93f0a6c>\u001b[0m in \u001b[0;36m<module>\u001b[0;34m()\u001b[0m\n\u001b[1;32m      1\u001b[0m \u001b[0mDegree_Distribution\u001b[0m\u001b[0;34m(\u001b[0m\u001b[0mG_RA\u001b[0m\u001b[0;34m)\u001b[0m\u001b[0;34m\u001b[0m\u001b[0;34m\u001b[0m\u001b[0m\n\u001b[1;32m      2\u001b[0m \u001b[0mplot_clustering\u001b[0m\u001b[0;34m(\u001b[0m\u001b[0mG_RA\u001b[0m\u001b[0;34m)\u001b[0m\u001b[0;34m\u001b[0m\u001b[0;34m\u001b[0m\u001b[0m\n\u001b[0;32m----> 3\u001b[0;31m \u001b[0mget_giant_cluster\u001b[0m\u001b[0;34m(\u001b[0m\u001b[0mG_RA\u001b[0m\u001b[0;34m)\u001b[0m\u001b[0;34m\u001b[0m\u001b[0;34m\u001b[0m\u001b[0m\n\u001b[0m",
      "\u001b[0;32m<ipython-input-99-b464de4fedf0>\u001b[0m in \u001b[0;36mget_giant_cluster\u001b[0;34m(GA)\u001b[0m\n\u001b[1;32m     22\u001b[0m   \u001b[0mGC\u001b[0m \u001b[0;34m=\u001b[0m \u001b[0mmax\u001b[0m\u001b[0;34m(\u001b[0m\u001b[0mnx\u001b[0m\u001b[0;34m.\u001b[0m\u001b[0mconnected_component_subgraphs\u001b[0m\u001b[0;34m(\u001b[0m\u001b[0mGA\u001b[0m\u001b[0;34m)\u001b[0m\u001b[0;34m,\u001b[0m \u001b[0mkey\u001b[0m\u001b[0;34m=\u001b[0m\u001b[0mlen\u001b[0m\u001b[0;34m)\u001b[0m\u001b[0;34m\u001b[0m\u001b[0;34m\u001b[0m\u001b[0m\n\u001b[1;32m     23\u001b[0m   \u001b[0mprint\u001b[0m\u001b[0;34m(\u001b[0m\u001b[0;34m\"Nodes in giant cluster = \"\u001b[0m \u001b[0;34m,\u001b[0m\u001b[0mGC\u001b[0m\u001b[0;34m.\u001b[0m\u001b[0mnumber_of_nodes\u001b[0m\u001b[0;34m(\u001b[0m\u001b[0;34m)\u001b[0m\u001b[0;34m)\u001b[0m\u001b[0;34m\u001b[0m\u001b[0;34m\u001b[0m\u001b[0m\n\u001b[0;32m---> 24\u001b[0;31m   \u001b[0mdiameter\u001b[0m \u001b[0;34m=\u001b[0m \u001b[0mnx\u001b[0m\u001b[0;34m.\u001b[0m\u001b[0malgorithms\u001b[0m\u001b[0;34m.\u001b[0m\u001b[0mdistance_measures\u001b[0m\u001b[0;34m.\u001b[0m\u001b[0mdiameter\u001b[0m\u001b[0;34m(\u001b[0m\u001b[0mGA\u001b[0m\u001b[0;34m)\u001b[0m\u001b[0;34m\u001b[0m\u001b[0;34m\u001b[0m\u001b[0m\n\u001b[0m\u001b[1;32m     25\u001b[0m   \u001b[0mprint\u001b[0m\u001b[0;34m(\u001b[0m\u001b[0;34m\"diameter = \"\u001b[0m \u001b[0;34m,\u001b[0m \u001b[0mdiameter\u001b[0m\u001b[0;34m)\u001b[0m\u001b[0;34m\u001b[0m\u001b[0;34m\u001b[0m\u001b[0m\n",
      "\u001b[0;32m/usr/local/lib/python3.6/dist-packages/networkx/algorithms/distance_measures.py\u001b[0m in \u001b[0;36mdiameter\u001b[0;34m(G, e, usebounds)\u001b[0m\n\u001b[1;32m    274\u001b[0m         \u001b[0;32mreturn\u001b[0m \u001b[0mextrema_bounding\u001b[0m\u001b[0;34m(\u001b[0m\u001b[0mG\u001b[0m\u001b[0;34m,\u001b[0m \u001b[0mcompute\u001b[0m\u001b[0;34m=\u001b[0m\u001b[0;34m\"diameter\"\u001b[0m\u001b[0;34m)\u001b[0m\u001b[0;34m\u001b[0m\u001b[0;34m\u001b[0m\u001b[0m\n\u001b[1;32m    275\u001b[0m     \u001b[0;32mif\u001b[0m \u001b[0me\u001b[0m \u001b[0;32mis\u001b[0m \u001b[0;32mNone\u001b[0m\u001b[0;34m:\u001b[0m\u001b[0;34m\u001b[0m\u001b[0;34m\u001b[0m\u001b[0m\n\u001b[0;32m--> 276\u001b[0;31m         \u001b[0me\u001b[0m \u001b[0;34m=\u001b[0m \u001b[0meccentricity\u001b[0m\u001b[0;34m(\u001b[0m\u001b[0mG\u001b[0m\u001b[0;34m)\u001b[0m\u001b[0;34m\u001b[0m\u001b[0;34m\u001b[0m\u001b[0m\n\u001b[0m\u001b[1;32m    277\u001b[0m     \u001b[0;32mreturn\u001b[0m \u001b[0mmax\u001b[0m\u001b[0;34m(\u001b[0m\u001b[0me\u001b[0m\u001b[0;34m.\u001b[0m\u001b[0mvalues\u001b[0m\u001b[0;34m(\u001b[0m\u001b[0;34m)\u001b[0m\u001b[0;34m)\u001b[0m\u001b[0;34m\u001b[0m\u001b[0;34m\u001b[0m\u001b[0m\n\u001b[1;32m    278\u001b[0m \u001b[0;34m\u001b[0m\u001b[0m\n",
      "\u001b[0;32m/usr/local/lib/python3.6/dist-packages/networkx/algorithms/distance_measures.py\u001b[0m in \u001b[0;36meccentricity\u001b[0;34m(G, v, sp)\u001b[0m\n\u001b[1;32m    239\u001b[0m                 msg = ('Found infinite path length because the graph is not'\n\u001b[1;32m    240\u001b[0m                        ' connected')\n\u001b[0;32m--> 241\u001b[0;31m             \u001b[0;32mraise\u001b[0m \u001b[0mnetworkx\u001b[0m\u001b[0;34m.\u001b[0m\u001b[0mNetworkXError\u001b[0m\u001b[0;34m(\u001b[0m\u001b[0mmsg\u001b[0m\u001b[0;34m)\u001b[0m\u001b[0;34m\u001b[0m\u001b[0;34m\u001b[0m\u001b[0m\n\u001b[0m\u001b[1;32m    242\u001b[0m \u001b[0;34m\u001b[0m\u001b[0m\n\u001b[1;32m    243\u001b[0m         \u001b[0me\u001b[0m\u001b[0;34m[\u001b[0m\u001b[0mn\u001b[0m\u001b[0;34m]\u001b[0m \u001b[0;34m=\u001b[0m \u001b[0mmax\u001b[0m\u001b[0;34m(\u001b[0m\u001b[0mlength\u001b[0m\u001b[0;34m.\u001b[0m\u001b[0mvalues\u001b[0m\u001b[0;34m(\u001b[0m\u001b[0;34m)\u001b[0m\u001b[0;34m)\u001b[0m\u001b[0;34m\u001b[0m\u001b[0;34m\u001b[0m\u001b[0m\n",
      "\u001b[0;31mNetworkXError\u001b[0m: Found infinite path length because the graph is not connected"
     ]
    }
   ],
   "source": [
    "Degree_Distribution(G_RA)\n",
    "plot_clustering(G_RA)\n",
    "get_giant_cluster(G_RA)"
   ]
  },
  {
   "cell_type": "code",
   "execution_count": 125,
   "metadata": {
    "colab": {
     "base_uri": "https://localhost:8080/",
     "height": 119
    },
    "colab_type": "code",
    "id": "SAEBXnr95ilu",
    "outputId": "8df40d17-4314-43d0-aecf-76fe44239023"
   },
   "outputs": [
    {
     "name": "stdout",
     "output_type": "stream",
     "text": [
      "Nodes in island =  16\n",
      "Nodes in island =  54\n",
      "Nodes in island =  24\n",
      "Nodes in island =  53\n",
      "Nodes in island =  53\n",
      "Nodes in island =  16\n"
     ]
    }
   ],
   "source": [
    "print(\"Nodes in island = \" , nx.number_connected_components(G))\n",
    "print(\"Nodes in island = \" , nx.number_connected_components(G_CN))\n",
    "print(\"Nodes in island = \" , nx.number_connected_components(G_JC))\n",
    "print(\"Nodes in island = \" , nx.number_connected_components(G_AA))\n",
    "print(\"Nodes in island = \" , nx.number_connected_components(G_RA))\n",
    "print(\"Nodes in island = \" , nx.number_connected_components(G_PA))\n"
   ]
  },
  {
   "cell_type": "code",
   "execution_count": 128,
   "metadata": {
    "colab": {
     "base_uri": "https://localhost:8080/",
     "height": 368
    },
    "colab_type": "code",
    "id": "c1k1abs_A_Au",
    "outputId": "79a5f913-9c13-4b30-f1de-7d2370749264"
   },
   "outputs": [
    {
     "data": {
      "text/plain": [
       "(array([23.,  0.,  0.,  0.,  0.,  0.,  0.,  0.,  0.,  1.]),\n",
       " array([1.0000e+00, 2.0460e+02, 4.0820e+02, 6.1180e+02, 8.1540e+02,\n",
       "        1.0190e+03, 1.2226e+03, 1.4262e+03, 1.6298e+03, 1.8334e+03,\n",
       "        2.0370e+03]),\n",
       " <a list of 10 Patch objects>)"
      ]
     },
     "execution_count": 128,
     "metadata": {
      "tags": []
     },
     "output_type": "execute_result"
    },
    {
     "data": {
      "image/png": "[encoded data removed]",
      "text/plain": [
       "<Figure size 288x288 with 1 Axes>"
      ]
     },
     "metadata": {
      "tags": []
     },
     "output_type": "display_data"
    }
   ],
   "source": [
    "y=[len(c) for c in nx.connected_component_subgraphs(G_JC)]\n",
    "plt.ylabel(\"No. of Cluster\")\n",
    "plt.xlabel(\"No. of nodes\")\n",
    "plt.hist(y)"
   ]
  },
  {
   "cell_type": "code",
   "execution_count": 129,
   "metadata": {
    "colab": {
     "base_uri": "https://localhost:8080/",
     "height": 368
    },
    "colab_type": "code",
    "id": "fKHZ8qgPA_F_",
    "outputId": "c04afaaa-c45f-41ef-8ebc-71ee743364e0"
   },
   "outputs": [
    {
     "data": {
      "text/plain": [
       "(array([52.,  0.,  0.,  0.,  0.,  0.,  0.,  0.,  0.,  1.]),\n",
       " array([1.0000e+00, 2.0170e+02, 4.0240e+02, 6.0310e+02, 8.0380e+02,\n",
       "        1.0045e+03, 1.2052e+03, 1.4059e+03, 1.6066e+03, 1.8073e+03,\n",
       "        2.0080e+03]),\n",
       " <a list of 10 Patch objects>)"
      ]
     },
     "execution_count": 129,
     "metadata": {
      "tags": []
     },
     "output_type": "execute_result"
    },
    {
     "data": {
      "image/png": "[encoded data removed]",
      "text/plain": [
       "<Figure size 288x288 with 1 Axes>"
      ]
     },
     "metadata": {
      "tags": []
     },
     "output_type": "display_data"
    }
   ],
   "source": [
    "yg=[len(c) for c in nx.connected_component_subgraphs(G_AA)]\n",
    "plt.ylabel(\"No. of Cluster\")\n",
    "plt.xlabel(\"No. of nodes\")\n",
    "plt.hist(yg)"
   ]
  },
  {
   "cell_type": "code",
   "execution_count": 130,
   "metadata": {
    "colab": {
     "base_uri": "https://localhost:8080/",
     "height": 368
    },
    "colab_type": "code",
    "id": "qsnHEThyA_J9",
    "outputId": "c5faca99-2d69-4b82-91e6-5155e1cdc92a"
   },
   "outputs": [
    {
     "data": {
      "text/plain": [
       "(array([53.,  0.,  0.,  0.,  0.,  0.,  0.,  0.,  0.,  1.]),\n",
       " array([1.0000e+00, 2.0160e+02, 4.0220e+02, 6.0280e+02, 8.0340e+02,\n",
       "        1.0040e+03, 1.2046e+03, 1.4052e+03, 1.6058e+03, 1.8064e+03,\n",
       "        2.0070e+03]),\n",
       " <a list of 10 Patch objects>)"
      ]
     },
     "execution_count": 130,
     "metadata": {
      "tags": []
     },
     "output_type": "execute_result"
    },
    {
     "data": {
      "image/png": "[encoded data removed]",
      "text/plain": [
       "<Figure size 288x288 with 1 Axes>"
      ]
     },
     "metadata": {
      "tags": []
     },
     "output_type": "display_data"
    }
   ],
   "source": [
    "yg=[len(c) for c in nx.connected_component_subgraphs(G_CN)]\n",
    "plt.ylabel(\"No. of Cluster\")\n",
    "plt.xlabel(\"No. of nodes\")\n",
    "plt.hist(yg)"
   ]
  },
  {
   "cell_type": "code",
   "execution_count": 131,
   "metadata": {
    "colab": {
     "base_uri": "https://localhost:8080/",
     "height": 368
    },
    "colab_type": "code",
    "id": "k2TrcqMVA_SV",
    "outputId": "5a2bef0d-0809-49bf-8139-2b4c130560b3"
   },
   "outputs": [
    {
     "data": {
      "text/plain": [
       "(array([15.,  0.,  0.,  0.,  0.,  0.,  0.,  0.,  0.,  1.]),\n",
       " array([1.0000e+00, 2.0540e+02, 4.0980e+02, 6.1420e+02, 8.1860e+02,\n",
       "        1.0230e+03, 1.2274e+03, 1.4318e+03, 1.6362e+03, 1.8406e+03,\n",
       "        2.0450e+03]),\n",
       " <a list of 10 Patch objects>)"
      ]
     },
     "execution_count": 131,
     "metadata": {
      "tags": []
     },
     "output_type": "execute_result"
    },
    {
     "data": {
      "image/png": "[encoded data removed]",
      "text/plain": [
       "<Figure size 288x288 with 1 Axes>"
      ]
     },
     "metadata": {
      "tags": []
     },
     "output_type": "display_data"
    }
   ],
   "source": [
    "yg=[len(c) for c in nx.connected_component_subgraphs(G_PA)]\n",
    "plt.ylabel(\"No. of Cluster\")\n",
    "plt.xlabel(\"No. of nodes\")\n",
    "plt.hist(yg)"
   ]
  },
  {
   "cell_type": "code",
   "execution_count": 132,
   "metadata": {
    "colab": {
     "base_uri": "https://localhost:8080/",
     "height": 368
    },
    "colab_type": "code",
    "id": "TaNE6HonA_P3",
    "outputId": "87eda194-2d43-49e8-8d08-0c02b6c47402"
   },
   "outputs": [
    {
     "data": {
      "text/plain": [
       "(array([52.,  0.,  0.,  0.,  0.,  0.,  0.,  0.,  0.,  1.]),\n",
       " array([1.0000e+00, 2.0140e+02, 4.0180e+02, 6.0220e+02, 8.0260e+02,\n",
       "        1.0030e+03, 1.2034e+03, 1.4038e+03, 1.6042e+03, 1.8046e+03,\n",
       "        2.0050e+03]),\n",
       " <a list of 10 Patch objects>)"
      ]
     },
     "execution_count": 132,
     "metadata": {
      "tags": []
     },
     "output_type": "execute_result"
    },
    {
     "data": {
      "image/png": "[encoded data removed]",
      "text/plain": [
       "<Figure size 288x288 with 1 Axes>"
      ]
     },
     "metadata": {
      "tags": []
     },
     "output_type": "display_data"
    }
   ],
   "source": [
    "yg=[len(c) for c in nx.connected_component_subgraphs(G_RA)]\n",
    "plt.ylabel(\"No. of Cluster\")\n",
    "plt.xlabel(\"No. of nodes\")\n",
    "plt.hist(yg)"
   ]
  },
  {
   "cell_type": "code",
   "execution_count": 0,
   "metadata": {
    "colab": {},
    "colab_type": "code",
    "collapsed": true,
    "id": "KXC7iCaoA_Nk"
   },
   "outputs": [],
   "source": [
    "\n",
    "\n",
    "def rooted_pagerank(g, node, d = 0.85, epsilon = 1e-4):\n",
    "    \"\"\" Returns rooted pagerank vector\n",
    "    g graph\n",
    "    node root\n",
    "    d damping coefficient\n",
    "    \"\"\"\n",
    "    ordered_nodes = sorted(g.nodes())\n",
    "    root = ordered_nodes.index(node)\n",
    "    adjecancy = nx.to_numpy_array(g, nodelist = ordered_nodes)\n",
    "    m = np.copy(adjecancy)\n",
    "\n",
    "    n = len(g)\n",
    "\n",
    "    for i in range(len(g)):\n",
    "        row_norm = np.linalg.norm(m[i], ord = 1)\n",
    "        if row_norm != 0:\n",
    "            m[i] = m[i] / row_norm\n",
    "\n",
    "    m = m.transpose()\n",
    "\n",
    "    rootvec = np.zeros(len(g))\n",
    "    rootvec[root] = 1\n",
    "\n",
    "    vect = np.random.rand(n)\n",
    "    vect = vect / np.linalg.norm(vect, ord = 1)\n",
    "    last_vect = np.ones(n) * 100 # to ensure that does not hit epsilon randomly in first step\n",
    "\n",
    "    iterations = 0\n",
    "    while np.linalg.norm(vect - last_vect, ord = 2) > epsilon:\n",
    "        last_vect = vect.copy()\n",
    "        vect = d * np.matmul(m, vect) + (1 - d) * rootvec\n",
    "        iterations += 1\n",
    "\n",
    "    eigenvector = vect / np.linalg.norm(vect, ord = 1)\n",
    "\n",
    "    eigen_dict = {}\n",
    "    for i in range(len(ordered_nodes)):\n",
    "        eigen_dict[ordered_nodes[i]] = eigenvector[i]\n",
    "\n",
    "    return eigen_dict\n",
    "\n",
    "for p in total_edges:\n",
    "        n1,n2=p\n",
    "        aa = rooted_pagerank(G, n1)\n",
    "        allm['RP'][p] = aa[n2]"
   ]
  },
  {
   "cell_type": "code",
   "execution_count": 0,
   "metadata": {
    "colab": {},
    "colab_type": "code",
    "collapsed": true,
    "id": "ENrMKbprjQdA"
   },
   "outputs": [],
   "source": [
    "Existing={}\n",
    "Existing['RP'] = sorted([(e,allm['RP'][e]) for e in total_edges],key=lambda x:x[1],reverse=True)"
   ]
  },
  {
   "cell_type": "code",
   "execution_count": 0,
   "metadata": {
    "colab": {},
    "colab_type": "code",
    "collapsed": true,
    "id": "MGAi58E7jZnv"
   },
   "outputs": [],
   "source": [
    "def Degree_Distribution(GA):\n",
    "    degree_sequence = sorted([d for n, d in GA.degree()], reverse=True)  # degree sequence\n",
    "    degreeCount = collections.Counter(degree_sequence)\n",
    "    deg, cnt = zip(*degreeCount.items())\n",
    "\n",
    "    fig, ax = plt.subplots()\n",
    "    plt.bar(deg, cnt, width=0.80, color='b')\n",
    "\n",
    "    plt.title(\"Degree Distribution\")\n",
    "    plt.ylabel(\"Count\")\n",
    "    plt.xlabel(\"Degree\")\n",
    "    plt.show() \n",
    "\n",
    "def plot_clustering(GA):\n",
    "  cluster = nx.clustering(GA)\n",
    "  plt.hist(cluster.values())\n",
    "  plt.xlabel(\"Clustering Coeficient\")\n",
    "  plt.ylabel(\"No of Nodes\")\n",
    "  plt.show()\n",
    "\n",
    "def get_giant_cluster(GA):\n",
    "  GC = max(nx.connected_component_subgraphs(GA), key=len)\n",
    "  print(\"Nodes in giant cluster = \" ,GC.number_of_nodes())\n",
    "  diameter = nx.algorithms.distance_measures.diameter(GA)\n",
    "  print(\"diameter = \" , diameter)\n",
    "  \n",
    "G_RP = G.copy()\n",
    "# top 30000 edges removed of each method and properties analysed\n",
    "G_RP.remove_edges_from([i[0] for i in Existing['CN'][:30000]])\n",
    "# for C in nx.connected_component_subgraphs(G_RP):\n",
    "#     print(nx.average_shortest_path_length(C))\n",
    "print(nx.average_clustering(G_RP))\n",
    "Degree_Distribution(G_RP)\n",
    "plot_clustering(G_RP)\n",
    "get_giant_cluster(G_RP)\n",
    "print(\"number of connected components = \" , nx.number_connected_components(G_RP))\n",
    "\n",
    "y=[len(c) for c in nx.connected_component_subgraphs(G_RP)]\n",
    "plt.ylabel(\"No. of Cluster\")\n",
    "plt.xlabel(\"No. of nodes\")\n",
    "plt.hist(y)"
   ]
  }
 ],
 "metadata": {
  "accelerator": "GPU",
  "colab": {
   "collapsed_sections": [],
   "name": "Assignment2",
   "provenance": []
  },
  "kernelspec": {
   "display_name": "Python 3",
   "language": "python",
   "name": "python3"
  },
  "language_info": {
   "codemirror_mode": {
    "name": "ipython",
    "version": 3
   },
   "file_extension": ".py",
   "mimetype": "text/x-python",
   "name": "python",
   "nbconvert_exporter": "python",
   "pygments_lexer": "ipython3",
   "version": "3.6.3"
  }
 },
 "nbformat": 4,
 "nbformat_minor": 1
}
